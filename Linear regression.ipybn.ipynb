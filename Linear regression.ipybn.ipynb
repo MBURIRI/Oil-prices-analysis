{
 "cells": [
  {
   "cell_type": "markdown",
   "metadata": {},
   "source": [
    "<h1 style=\"color: red;\">LINEAR REGRESSION IN PREDICTIVE MODELLING</h1>"
   ]
  },
  {
   "cell_type": "markdown",
   "metadata": {},
   "source": [
    "Predictive modeling is the process of using statistical or machine learning techniques to predict future outcomes based on historical data. The goal is to find patterns and relationships between input variables (features) and a target variable (outcome) to make accurate predictions on new, unseen data. Linear regression is often used when the target variable is continuous, such as predicting sales, temperature, or house prices."
   ]
  },
  {
   "cell_type": "markdown",
   "metadata": {},
   "source": [
    "Linear regression is one of the most commonly used techniques in predictive modeling, particularly for forecasting and estimating a continuous outcome. Here's a detailed look at how linear regression is applied in predictive modeling, including its strengths, assumptions, and limitations."
   ]
  },
  {
   "cell_type": "markdown",
   "metadata": {},
   "source": [
    "In predictive modeling, linear regression is used to establish a linear relationship between one or more predictors (independent variables) and the outcome variable (dependent variable). It assumes that the change in the outcome variable is proportional to the change in each predictor.\n",
    "\n",
    "For example, in a simple linear regression with one predictor:\n",
    "\n",
    "𝑦=\n",
    "𝑏\n",
    "0\n",
    "+\n",
    "𝑏\n",
    "1\n",
    "⋅\n",
    "𝑥\n",
    "+\n",
    "𝜖\n",
    "y=b \n",
    "0\n",
    "​\n",
    " +b \n",
    "1\n",
    "​\n",
    " ⋅x+ϵ\n",
    "where \n",
    "𝑦\n",
    "y is the outcome, \n",
    "𝑥\n",
    "x is the predictor, \n",
    "𝑏\n",
    "0\n",
    "b \n",
    "0\n",
    "​\n",
    "  is the intercept, \n",
    "𝑏\n",
    "1\n",
    "b \n",
    "1\n",
    "​\n",
    "  is the coefficient for \n",
    "𝑥\n",
    "x, and \n",
    "𝜖\n",
    "ϵ is the error term.\n",
    "\n",
    "In multiple linear regression, the model extends to multiple predictors:\n",
    "\n",
    "𝑦=𝑏0+𝑏\n",
    "1\n",
    "⋅\n",
    "𝑥\n",
    "1\n",
    "+\n",
    "𝑏\n",
    "2\n",
    "⋅\n",
    "𝑥\n",
    "2\n",
    "+\n",
    "⋯\n",
    "+\n",
    "𝑏\n",
    "𝑛\n",
    "⋅\n",
    "𝑥\n",
    "𝑛\n",
    "+\n",
    "𝜖\n",
    "y=b \n",
    "0\n",
    "​\n",
    " +b \n",
    "1\n",
    "​\n",
    " ⋅x \n",
    "1\n",
    "​\n",
    " +b \n",
    "2\n",
    "​\n",
    " ⋅x \n",
    "2\n",
    "​\n",
    " +⋯+b \n",
    "n\n",
    "​\n",
    " ⋅x \n",
    "n\n",
    "​\n",
    " +ϵ\n",
    "This equation models the linear relationship between the outcome and multiple predictors, capturing more complexity in the data and increasing prediction accuracy."
   ]
  },
  {
   "cell_type": "markdown",
   "metadata": {},
   "source": [
    " Assumptions of Linear Regression in Predictive Modeling\n",
    "For linear regression to perform optimally in predictive modeling, several assumptions should ideally be met:\n",
    "\n",
    "Linearity: The relationship between predictors and the outcome should be linear.\n",
    "Independence of Errors: Residuals (errors) should be independent of each other.\n",
    "\n",
    "Homoscedasticity: The variance of errors should be constant across values of the predictors.\n",
    "\n",
    "Normality of Errors: Residuals should follow a normal distribution (useful for hypothesis testing and confidence intervals).\n",
    "\n",
    "No Perfect Multicollinearity: Predictors should not be highly correlated with each other, as this can affect the stability of coefficient estimates."
   ]
  },
  {
   "cell_type": "markdown",
   "metadata": {},
   "source": [
    "Limitations\n",
    "Assumes Linearity: Linear regression may underperform if the true relationship is non-linear.\n",
    "\n",
    "Sensitive to Outliers: Outliers can distort predictions. Robust regression techniques or outlier detection can help mitigate this.\n",
    "\n",
    "Assumes Normal Distribution of Errors: Violation of this assumption affects confidence intervals and statistical tests.\n",
    "\n",
    "Overfitting: With too many predictors, linear regression may fit the noise in the training data rather than the true pattern, leading to poor generalization. Regularization helps reduce this risk."
   ]
  },
  {
   "cell_type": "code",
   "execution_count": 2,
   "metadata": {},
   "outputs": [],
   "source": [
    "import pandas as pd\n",
    "import numpy as np\n",
    "import matplotlib\n",
    "import matplotlib.pyplot as plt\n",
    "import scipy.stats as stats\n",
    "matplotlib.style.use('ggplot')"
   ]
  },
  {
   "cell_type": "code",
   "execution_count": 3,
   "metadata": {},
   "outputs": [
    {
     "data": {
      "text/html": [
       "<div>\n",
       "<style scoped>\n",
       "    .dataframe tbody tr th:only-of-type {\n",
       "        vertical-align: middle;\n",
       "    }\n",
       "\n",
       "    .dataframe tbody tr th {\n",
       "        vertical-align: top;\n",
       "    }\n",
       "\n",
       "    .dataframe thead th {\n",
       "        text-align: right;\n",
       "    }\n",
       "</style>\n",
       "<table border=\"1\" class=\"dataframe\">\n",
       "  <thead>\n",
       "    <tr style=\"text-align: right;\">\n",
       "      <th></th>\n",
       "      <th>model</th>\n",
       "      <th>mpg</th>\n",
       "      <th>cyl</th>\n",
       "      <th>disp</th>\n",
       "      <th>hp</th>\n",
       "      <th>drat</th>\n",
       "      <th>wt</th>\n",
       "      <th>qsec</th>\n",
       "      <th>vs</th>\n",
       "      <th>am</th>\n",
       "      <th>gear</th>\n",
       "      <th>carb</th>\n",
       "    </tr>\n",
       "  </thead>\n",
       "  <tbody>\n",
       "    <tr>\n",
       "      <th>0</th>\n",
       "      <td>Mazda RX4</td>\n",
       "      <td>21.0</td>\n",
       "      <td>6</td>\n",
       "      <td>160.0</td>\n",
       "      <td>110</td>\n",
       "      <td>3.90</td>\n",
       "      <td>2.620</td>\n",
       "      <td>16.46</td>\n",
       "      <td>0</td>\n",
       "      <td>1</td>\n",
       "      <td>4</td>\n",
       "      <td>4</td>\n",
       "    </tr>\n",
       "    <tr>\n",
       "      <th>1</th>\n",
       "      <td>Mazda RX4 Wag</td>\n",
       "      <td>21.0</td>\n",
       "      <td>6</td>\n",
       "      <td>160.0</td>\n",
       "      <td>110</td>\n",
       "      <td>3.90</td>\n",
       "      <td>2.875</td>\n",
       "      <td>17.02</td>\n",
       "      <td>0</td>\n",
       "      <td>1</td>\n",
       "      <td>4</td>\n",
       "      <td>4</td>\n",
       "    </tr>\n",
       "    <tr>\n",
       "      <th>2</th>\n",
       "      <td>Datsun 710</td>\n",
       "      <td>22.8</td>\n",
       "      <td>4</td>\n",
       "      <td>108.0</td>\n",
       "      <td>93</td>\n",
       "      <td>3.85</td>\n",
       "      <td>2.320</td>\n",
       "      <td>18.61</td>\n",
       "      <td>1</td>\n",
       "      <td>1</td>\n",
       "      <td>4</td>\n",
       "      <td>1</td>\n",
       "    </tr>\n",
       "    <tr>\n",
       "      <th>3</th>\n",
       "      <td>Hornet 4 Drive</td>\n",
       "      <td>21.4</td>\n",
       "      <td>6</td>\n",
       "      <td>258.0</td>\n",
       "      <td>110</td>\n",
       "      <td>3.08</td>\n",
       "      <td>3.215</td>\n",
       "      <td>19.44</td>\n",
       "      <td>1</td>\n",
       "      <td>0</td>\n",
       "      <td>3</td>\n",
       "      <td>1</td>\n",
       "    </tr>\n",
       "    <tr>\n",
       "      <th>4</th>\n",
       "      <td>Hornet Sportabout</td>\n",
       "      <td>18.7</td>\n",
       "      <td>8</td>\n",
       "      <td>360.0</td>\n",
       "      <td>175</td>\n",
       "      <td>3.15</td>\n",
       "      <td>3.440</td>\n",
       "      <td>17.02</td>\n",
       "      <td>0</td>\n",
       "      <td>0</td>\n",
       "      <td>3</td>\n",
       "      <td>2</td>\n",
       "    </tr>\n",
       "  </tbody>\n",
       "</table>\n",
       "</div>"
      ],
      "text/plain": [
       "               model   mpg  cyl   disp   hp  drat     wt   qsec  vs  am  gear  \\\n",
       "0          Mazda RX4  21.0    6  160.0  110  3.90  2.620  16.46   0   1     4   \n",
       "1      Mazda RX4 Wag  21.0    6  160.0  110  3.90  2.875  17.02   0   1     4   \n",
       "2         Datsun 710  22.8    4  108.0   93  3.85  2.320  18.61   1   1     4   \n",
       "3     Hornet 4 Drive  21.4    6  258.0  110  3.08  3.215  19.44   1   0     3   \n",
       "4  Hornet Sportabout  18.7    8  360.0  175  3.15  3.440  17.02   0   0     3   \n",
       "\n",
       "   carb  \n",
       "0     4  \n",
       "1     4  \n",
       "2     1  \n",
       "3     1  \n",
       "4     2  "
      ]
     },
     "execution_count": 3,
     "metadata": {},
     "output_type": "execute_result"
    }
   ],
   "source": [
    "df=pd.read_csv(r\"E:\\data analysis using python( jupytetr notebooks)\\Lawrence Mbura\\mtcars.csv\")\n",
    "df.head()"
   ]
  },
  {
   "cell_type": "code",
   "execution_count": 4,
   "metadata": {},
   "outputs": [
    {
     "data": {
      "text/plain": [
       "<Axes: xlabel='wt', ylabel='mpg'>"
      ]
     },
     "execution_count": 4,
     "metadata": {},
     "output_type": "execute_result"
    },
    {
     "data": {
      "image/png": "[encoded data removed]",
      "text/plain": [
       "<Figure size 700x700 with 1 Axes>"
      ]
     },
     "metadata": {},
     "output_type": "display_data"
    }
   ],
   "source": [
    "df.plot(kind='scatter',x='wt',y='mpg',figsize=(7,7),color='red')"
   ]
  },
  {
   "cell_type": "code",
   "execution_count": 14,
   "metadata": {},
   "outputs": [
    {
     "name": "stdout",
     "output_type": "stream",
     "text": [
      "Collecting scikit-learn\n",
      "  Downloading scikit_learn-1.5.2-cp312-cp312-win_amd64.whl.metadata (13 kB)\n",
      "Requirement already satisfied: numpy>=1.19.5 in c:\\users\\s.mburiri\\appdata\\local\\programs\\python\\python312\\lib\\site-packages (from scikit-learn) (2.0.0)\n",
      "Requirement already satisfied: scipy>=1.6.0 in c:\\users\\s.mburiri\\appdata\\local\\programs\\python\\python312\\lib\\site-packages (from scikit-learn) (1.14.1)\n",
      "Collecting joblib>=1.2.0 (from scikit-learn)\n",
      "  Downloading joblib-1.4.2-py3-none-any.whl.metadata (5.4 kB)\n",
      "Collecting threadpoolctl>=3.1.0 (from scikit-learn)\n",
      "  Downloading threadpoolctl-3.5.0-py3-none-any.whl.metadata (13 kB)\n",
      "Downloading scikit_learn-1.5.2-cp312-cp312-win_amd64.whl (11.0 MB)\n",
      "   ---------------------------------------- 0.0/11.0 MB ? eta -:--:--\n",
      "   ---------------------------------------- 0.0/11.0 MB ? eta -:--:--\n",
      "   ---------------------------------------- 0.0/11.0 MB ? eta -:--:--\n",
      "    --------------------------------------- 0.3/11.0 MB ? eta -:--:--\n",
      "    --------------------------------------- 0.3/11.0 MB ? eta -:--:--\n",
      "   - -------------------------------------- 0.5/11.0 MB 670.4 kB/s eta 0:00:16\n",
      "   -- ------------------------------------- 0.8/11.0 MB 745.8 kB/s eta 0:00:14\n",
      "   -- ------------------------------------- 0.8/11.0 MB 745.8 kB/s eta 0:00:14\n",
      "   --- ------------------------------------ 1.0/11.0 MB 751.1 kB/s eta 0:00:14\n",
      "   --- ------------------------------------ 1.0/11.0 MB 751.1 kB/s eta 0:00:14\n",
      "   ---- ----------------------------------- 1.3/11.0 MB 745.8 kB/s eta 0:00:13\n",
      "   ---- ----------------------------------- 1.3/11.0 MB 745.8 kB/s eta 0:00:13\n",
      "   ----- ---------------------------------- 1.6/11.0 MB 729.4 kB/s eta 0:00:13\n",
      "   ------ --------------------------------- 1.8/11.0 MB 745.8 kB/s eta 0:00:13\n",
      "   ------ --------------------------------- 1.8/11.0 MB 745.8 kB/s eta 0:00:13\n",
      "   ------- -------------------------------- 2.1/11.0 MB 748.1 kB/s eta 0:00:12\n",
      "   -------- ------------------------------- 2.4/11.0 MB 767.1 kB/s eta 0:00:12\n",
      "   -------- ------------------------------- 2.4/11.0 MB 767.1 kB/s eta 0:00:12\n",
      "   --------- ------------------------------ 2.6/11.0 MB 751.1 kB/s eta 0:00:12\n",
      "   ---------- ----------------------------- 2.9/11.0 MB 755.7 kB/s eta 0:00:11\n",
      "   ---------- ----------------------------- 2.9/11.0 MB 755.7 kB/s eta 0:00:11\n",
      "   ----------- ---------------------------- 3.1/11.0 MB 762.7 kB/s eta 0:00:11\n",
      "   ------------ --------------------------- 3.4/11.0 MB 768.4 kB/s eta 0:00:10\n",
      "   ------------ --------------------------- 3.4/11.0 MB 768.4 kB/s eta 0:00:10\n",
      "   ------------- -------------------------- 3.7/11.0 MB 773.5 kB/s eta 0:00:10\n",
      "   ------------- -------------------------- 3.7/11.0 MB 773.5 kB/s eta 0:00:10\n",
      "   -------------- ------------------------- 3.9/11.0 MB 777.7 kB/s eta 0:00:10\n",
      "   --------------- ------------------------ 4.2/11.0 MB 771.9 kB/s eta 0:00:09\n",
      "   --------------- ------------------------ 4.2/11.0 MB 771.9 kB/s eta 0:00:09\n",
      "   ---------------- ----------------------- 4.5/11.0 MB 775.9 kB/s eta 0:00:09\n",
      "   ----------------- ---------------------- 4.7/11.0 MB 781.4 kB/s eta 0:00:09\n",
      "   ----------------- ---------------------- 4.7/11.0 MB 781.4 kB/s eta 0:00:09\n",
      "   ------------------ --------------------- 5.0/11.0 MB 786.4 kB/s eta 0:00:08\n",
      "   ------------------- -------------------- 5.2/11.0 MB 789.0 kB/s eta 0:00:08\n",
      "   ------------------- -------------------- 5.2/11.0 MB 789.0 kB/s eta 0:00:08\n",
      "   -------------------- ------------------- 5.5/11.0 MB 791.4 kB/s eta 0:00:07\n",
      "   -------------------- ------------------- 5.5/11.0 MB 791.4 kB/s eta 0:00:07\n",
      "   -------------------- ------------------- 5.5/11.0 MB 791.4 kB/s eta 0:00:07\n",
      "   -------------------- ------------------- 5.5/11.0 MB 791.4 kB/s eta 0:00:07\n",
      "   -------------------- ------------------- 5.5/11.0 MB 791.4 kB/s eta 0:00:07\n",
      "   -------------------- ------------------- 5.5/11.0 MB 791.4 kB/s eta 0:00:07\n",
      "   -------------------- ------------------- 5.8/11.0 MB 696.3 kB/s eta 0:00:08\n",
      "   -------------------- ------------------- 5.8/11.0 MB 696.3 kB/s eta 0:00:08\n",
      "   -------------------- ------------------- 5.8/11.0 MB 696.3 kB/s eta 0:00:08\n",
      "   --------------------- ------------------ 6.0/11.0 MB 678.5 kB/s eta 0:00:08\n",
      "   --------------------- ------------------ 6.0/11.0 MB 678.5 kB/s eta 0:00:08\n",
      "   ---------------------- ----------------- 6.3/11.0 MB 674.6 kB/s eta 0:00:07\n",
      "   ----------------------- ---------------- 6.6/11.0 MB 676.7 kB/s eta 0:00:07\n",
      "   ----------------------- ---------------- 6.6/11.0 MB 676.7 kB/s eta 0:00:07\n",
      "   ------------------------ --------------- 6.8/11.0 MB 679.8 kB/s eta 0:00:07\n",
      "   ------------------------ --------------- 6.8/11.0 MB 679.8 kB/s eta 0:00:07\n",
      "   ------------------------- -------------- 7.1/11.0 MB 681.6 kB/s eta 0:00:06\n",
      "   -------------------------- ------------- 7.3/11.0 MB 683.3 kB/s eta 0:00:06\n",
      "   -------------------------- ------------- 7.3/11.0 MB 683.3 kB/s eta 0:00:06\n",
      "   --------------------------- ------------ 7.6/11.0 MB 679.8 kB/s eta 0:00:05\n",
      "   --------------------------- ------------ 7.6/11.0 MB 679.8 kB/s eta 0:00:05\n",
      "   ---------------------------- ----------- 7.9/11.0 MB 684.3 kB/s eta 0:00:05\n",
      "   ---------------------------- ----------- 7.9/11.0 MB 684.3 kB/s eta 0:00:05\n",
      "   ----------------------------- ---------- 8.1/11.0 MB 677.4 kB/s eta 0:00:05\n",
      "   ----------------------------- ---------- 8.1/11.0 MB 677.4 kB/s eta 0:00:05\n",
      "   ----------------------------- ---------- 8.1/11.0 MB 677.4 kB/s eta 0:00:05\n",
      "   ----------------------------- ---------- 8.1/11.0 MB 677.4 kB/s eta 0:00:05\n",
      "   ------------------------------ --------- 8.4/11.0 MB 660.8 kB/s eta 0:00:04\n",
      "   ------------------------------ --------- 8.4/11.0 MB 660.8 kB/s eta 0:00:04\n",
      "   ------------------------------ --------- 8.4/11.0 MB 660.8 kB/s eta 0:00:04\n",
      "   ------------------------------ --------- 8.4/11.0 MB 660.8 kB/s eta 0:00:04\n",
      "   ------------------------------ --------- 8.4/11.0 MB 660.8 kB/s eta 0:00:04\n",
      "   ------------------------------ --------- 8.4/11.0 MB 660.8 kB/s eta 0:00:04\n",
      "   ------------------------------- -------- 8.7/11.0 MB 610.1 kB/s eta 0:00:04\n",
      "   ------------------------------- -------- 8.7/11.0 MB 610.1 kB/s eta 0:00:04\n",
      "   ------------------------------- -------- 8.7/11.0 MB 610.1 kB/s eta 0:00:04\n",
      "   ------------------------------- -------- 8.7/11.0 MB 610.1 kB/s eta 0:00:04\n",
      "   ------------------------------- -------- 8.7/11.0 MB 610.1 kB/s eta 0:00:04\n",
      "   ------------------------------- -------- 8.7/11.0 MB 610.1 kB/s eta 0:00:04\n",
      "   ------------------------------- -------- 8.7/11.0 MB 610.1 kB/s eta 0:00:04\n",
      "   ------------------------------- -------- 8.7/11.0 MB 610.1 kB/s eta 0:00:04\n",
      "   -------------------------------- ------- 8.9/11.0 MB 563.2 kB/s eta 0:00:04\n",
      "   -------------------------------- ------- 8.9/11.0 MB 563.2 kB/s eta 0:00:04\n",
      "   -------------------------------- ------- 8.9/11.0 MB 563.2 kB/s eta 0:00:04\n",
      "   --------------------------------- ------ 9.2/11.0 MB 558.1 kB/s eta 0:00:04\n",
      "   ---------------------------------- ----- 9.4/11.0 MB 565.7 kB/s eta 0:00:03\n",
      "   ----------------------------------- ---- 9.7/11.0 MB 570.3 kB/s eta 0:00:03\n",
      "   ----------------------------------- ---- 9.7/11.0 MB 570.3 kB/s eta 0:00:03\n",
      "   ------------------------------------ --- 10.0/11.0 MB 575.3 kB/s eta 0:00:02\n",
      "   ------------------------------------- -- 10.2/11.0 MB 580.6 kB/s eta 0:00:02\n",
      "   ------------------------------------- -- 10.2/11.0 MB 580.6 kB/s eta 0:00:02\n",
      "   -------------------------------------- - 10.5/11.0 MB 584.2 kB/s eta 0:00:01\n",
      "   ---------------------------------------  10.7/11.0 MB 589.2 kB/s eta 0:00:01\n",
      "   ---------------------------------------  10.7/11.0 MB 589.2 kB/s eta 0:00:01\n",
      "   ---------------------------------------  10.7/11.0 MB 589.2 kB/s eta 0:00:01\n",
      "   ---------------------------------------  10.7/11.0 MB 589.2 kB/s eta 0:00:01\n",
      "   ---------------------------------------- 11.0/11.0 MB 580.6 kB/s eta 0:00:00\n",
      "Downloading joblib-1.4.2-py3-none-any.whl (301 kB)\n",
      "Downloading threadpoolctl-3.5.0-py3-none-any.whl (18 kB)\n",
      "Installing collected packages: threadpoolctl, joblib, scikit-learn\n",
      "Successfully installed joblib-1.4.2 scikit-learn-1.5.2 threadpoolctl-3.5.0\n",
      "Note: you may need to restart the kernel to use updated packages.\n"
     ]
    },
    {
     "name": "stderr",
     "output_type": "stream",
     "text": [
      "\n",
      "[notice] A new release of pip is available: 24.2 -> 24.3.1\n",
      "[notice] To update, run: python.exe -m pip install --upgrade pip\n"
     ]
    }
   ],
   "source": [
    "pip install scikit-learn"
   ]
  },
  {
   "cell_type": "code",
   "execution_count": 5,
   "metadata": {},
   "outputs": [],
   "source": [
    "from sklearn import linear_model\n"
   ]
  },
  {
   "cell_type": "code",
   "execution_count": 6,
   "metadata": {},
   "outputs": [
    {
     "name": "stdout",
     "output_type": "stream",
     "text": [
      "37.28512616734204\n",
      "[-5.34447157]\n"
     ]
    }
   ],
   "source": [
    "#initilizing the model\n",
    "regression_model=linear_model.LinearRegression()\n",
    "\n",
    "# train the model using the mtcatrs data(df)\n",
    "regression_model.fit(df[['wt']],df['mpg'])\n",
    "\n",
    "# check trained model y-intercept\n",
    "print(regression_model.intercept_)\n",
    "\n",
    "# check trained model cooeficients\n",
    "print(regression_model.coef_)"
   ]
  },
  {
   "cell_type": "markdown",
   "metadata": {},
   "source": [
    "Intercept: 37.28512616734204\n",
    "\n",
    "This is the \n",
    "𝑦\n",
    "y-intercept of the regression line. It represents the predicted value of mpg (miles per gallon) when wt (weight) is zero. In practical terms, while a weight of zero doesn't make sense for this dataset, the intercept provides a starting point for the line of best fit.\n",
    "\n",
    "Coefficient: [-5.34447157]\n",
    "\n",
    "This is the slope of the regression line for the wt variable. It shows that for each unit increase in wt, the mpg is expected to decrease by approximately 5.34. The negative sign indicates an inverse relationship between weight and miles per gallon.\n",
    "Interpreting the Model\n",
    "With these values, your linear regression equation for predicting mpg based on wt would be:\n",
    "\n",
    "mpg=37.2851−5.3445×wt\n",
    "This equation means that as the weight of a car increases, the fuel efficiency in miles per gallon is expected to decrease.\n",
    "\n",
    "\n",
    "\n",
    "\n",
    "\n",
    "\n"
   ]
  },
  {
   "cell_type": "markdown",
   "metadata": {},
   "source": [
    "<h3 style=\"color: red;\">How good of a predictor is this model (r-squared value)</h3>"
   ]
  },
  {
   "cell_type": "code",
   "execution_count": 7,
   "metadata": {},
   "outputs": [
    {
     "data": {
      "text/plain": [
       "0.7528327936582646"
      ]
     },
     "execution_count": 7,
     "metadata": {},
     "output_type": "execute_result"
    }
   ],
   "source": [
    "regression_model.score(df[['wt']],df['mpg'])"
   ]
  },
  {
   "cell_type": "markdown",
   "metadata": {},
   "source": [
    "The r-squared value denotes the proportion of variance in the dependent variable('mpg') that is explained by the model. it ranges between 0 and 1. The output above of 0.75 means that about 75% of the variance of 'mpg' can be explained by the weight."
   ]
  },
  {
   "cell_type": "code",
   "execution_count": 8,
   "metadata": {},
   "outputs": [
    {
     "data": {
      "text/plain": [
       "count    3.200000e+01\n",
       "mean    -8.215650e-15\n",
       "std      2.996352e+00\n",
       "min     -4.543151e+00\n",
       "25%     -2.364709e+00\n",
       "50%     -1.251956e-01\n",
       "75%      1.409561e+00\n",
       "max      6.872711e+00\n",
       "Name: mpg, dtype: float64"
      ]
     },
     "execution_count": 8,
     "metadata": {},
     "output_type": "execute_result"
    }
   ],
   "source": [
    "train_prediction=regression_model.predict(df[['wt']])\n",
    "# residuals= actual-prediction\n",
    "residual=df['mpg']-train_prediction\n",
    "\n",
    "residual.describe()"
   ]
  },
  {
   "cell_type": "code",
   "execution_count": 9,
   "metadata": {},
   "outputs": [
    {
     "data": {
      "text/plain": [
       "[<matplotlib.lines.Line2D at 0x249658a0260>]"
      ]
     },
     "execution_count": 9,
     "metadata": {},
     "output_type": "execute_result"
    },
    {
     "data": {
      "image/png": "[encoded data removed]",
      "text/plain": [
       "<Figure size 700x700 with 1 Axes>"
      ]
     },
     "metadata": {},
     "output_type": "display_data"
    }
   ],
   "source": [
    "df.plot(kind='scatter',\n",
    "        x='wt',\n",
    "        y='mpg',\n",
    "        figsize=(7,7),\n",
    "        color='red',\n",
    "        xlim=(0,7))\n",
    "# Plot regression line\n",
    "\n",
    "plt.plot(df['wt'],\n",
    "         train_prediction,\n",
    "         color='brown')\n"
   ]
  },
  {
   "cell_type": "markdown",
   "metadata": {},
   "source": [
    " The presence of an outlier in your dataset is a limitation to having a good linear regression model. \n",
    "for example"
   ]
  },
  {
   "cell_type": "code",
   "execution_count": 10,
   "metadata": {},
   "outputs": [
    {
     "name": "stdout",
     "output_type": "stream",
     "text": [
      "19.241441756136695\n",
      "[0.51289417]\n"
     ]
    },
    {
     "data": {
      "text/plain": [
       "[<matplotlib.lines.Line2D at 0x24965a5cd10>]"
      ]
     },
     "execution_count": 10,
     "metadata": {},
     "output_type": "execute_result"
    },
    {
     "data": {
      "image/png": "[encoded data removed]",
      "text/plain": [
       "<Figure size 700x700 with 1 Axes>"
      ]
     },
     "metadata": {},
     "output_type": "display_data"
    }
   ],
   "source": [
    "df_subset=df[['mpg','wt']]\n",
    "super_car=pd.DataFrame({'mpg':[50],'wt':10},index=['super'])\n",
    "new_car=pd.concat([df_subset,super_car])\n",
    "\n",
    "#initializing the model\n",
    "regression_model=linear_model.LinearRegression()\n",
    "# training the model\n",
    "regression_model.fit(new_car[['wt']],new_car['mpg'])\n",
    "# check trained regression model y- intercept\n",
    "print(regression_model.intercept_)\n",
    "# check regression model coeeficient\n",
    "print(regression_model.coef_)\n",
    "\n",
    "train_prediction2=regression_model.predict(new_car[['wt']])\n",
    "\n",
    "#plot the new model\n",
    "new_car.plot(kind='scatter',\n",
    "        x='wt',\n",
    "        y='mpg',\n",
    "        figsize=(7,7),\n",
    "        color='red',\n",
    "        xlim=(1,11),\n",
    "        ylim=(10,52))\n",
    "# Plot regression line\n",
    "\n",
    "plt.plot(new_car['wt'],\n",
    "         train_prediction2,\n",
    "         color='blue')"
   ]
  },
  {
   "cell_type": "markdown",
   "metadata": {},
   "source": [
    "for a good regression model the residual should assume a normal distribution\n",
    "    "
   ]
  },
  {
   "cell_type": "code",
   "execution_count": 11,
   "metadata": {},
   "outputs": [
    {
     "data": {
      "text/plain": [
       "((array([-2.02511189, -1.62590278, -1.38593914, -1.20666642, -1.05953591,\n",
       "         -0.93235918, -0.81872017, -0.71478609, -0.6180591 , -0.52680137,\n",
       "         -0.43973827, -0.35589149, -0.27447843, -0.19484777, -0.11643566,\n",
       "         -0.03873405,  0.03873405,  0.11643566,  0.19484777,  0.27447843,\n",
       "          0.35589149,  0.43973827,  0.52680137,  0.6180591 ,  0.71478609,\n",
       "          0.81872017,  0.93235918,  1.05953591,  1.20666642,  1.38593914,\n",
       "          1.62590278,  2.02511189]),\n",
       "  array([-4.54315128, -3.90536265, -3.72686632, -3.46235533, -3.20536265,\n",
       "         -2.97258623, -2.78093991, -2.61100374, -2.28261065, -2.08595212,\n",
       "         -1.88302362, -1.10014396, -1.0274952 , -0.9197704 , -0.69325453,\n",
       "         -0.20014396, -0.0502472 ,  0.152043  ,  0.29985604,  0.35642633,\n",
       "          0.86687313,  1.17334959,  1.20105932,  1.29734994,  1.74619542,\n",
       "          2.10328764,  2.34995929,  2.46436703,  4.16373815,  5.98107439,\n",
       "          6.42197917,  6.87271129])),\n",
       " (np.float64(3.0327797489458974),\n",
       "  np.float64(-7.963120739283911e-15),\n",
       "  np.float64(0.975667445179132)))"
      ]
     },
     "execution_count": 11,
     "metadata": {},
     "output_type": "execute_result"
    },
    {
     "data": {
      "image/png": "[encoded data removed]",
      "text/plain": [
       "<Figure size 900x900 with 1 Axes>"
      ]
     },
     "metadata": {},
     "output_type": "display_data"
    }
   ],
   "source": [
    "plt.figure(figsize=(9,9))\n",
    "stats.probplot(residual, dist='norm', plot=plt)\n"
   ]
  },
  {
   "cell_type": "markdown",
   "metadata": {},
   "source": [
    "<h3 style=\"color: red;\">How well did the model perform using ROOT MEAN SQUARED ERROR (RMSE) </h3>"
   ]
  },
  {
   "cell_type": "markdown",
   "metadata": {},
   "source": [
    "RMSE stands for **Root Mean Square Error**.RSME IS THE SQUARE ROOT OF THE AVERAGE OF THE SQUARED ERROR(RESISUALS) It’s a standard way to measure the error of a model in predicting quantitative data. RMSE provides insight into how well a model's predictions match actual observations, with lower values indicating better predictive accuracy.\n",
    "\n",
    "### How RMSE Works:\n",
    "1. **Differences (Residuals)** between predicted and actual values are calculated.\n",
    "2. Each residual is squared to handle positive and negative values symmetrically.\n",
    "3. The mean of these squared residuals is calculated, giving us the mean square error.\n",
    "4. The square root of the mean square error provides RMSE, bringing the units back to the same scale as the data.\n",
    "\n",
    "### Interpretation:\n",
    "- **Lower RMSE** values indicate a better fit and more accurate model predictions.\n",
    "- **Higher RMSE** values indicate a larger discrepancy between predicted and actual values.\n",
    "\n",
    "RMSE is commonly used in fields like machine learning, statistics, and forecasting to evaluate model performance, especially for continuous variables."
   ]
  },
  {
   "cell_type": "code",
   "execution_count": 12,
   "metadata": {},
   "outputs": [
    {
     "data": {
      "text/plain": [
       "np.float64(2.949162685955028)"
      ]
     },
     "execution_count": 12,
     "metadata": {},
     "output_type": "execute_result"
    }
   ],
   "source": [
    "from sklearn.metrics import mean_squared_error\n",
    "RMSE=mean_squared_error(train_prediction,df['mpg'])**0.5\n",
    "RMSE\n"
   ]
  },
  {
   "cell_type": "markdown",
   "metadata": {},
   "source": [
    "Scale and Meaning: Since RMSE is in the same units as the target variable (in your case, mpg, or miles per gallon), an RMSE of 2.95 means that, on average, your model's predictions deviate from the actual mpg values by about 2.95 mpg.\n",
    "\n",
    "Model Accuracy: Generally, lower RMSE values indicate a more accurate model. An RMSE of 2.95 suggests that your model's predictions are reasonably close to the actual values, but the level of accuracy is highly dependent on the acceptable margin of error for your specific task."
   ]
  },
  {
   "cell_type": "code",
   "execution_count": null,
   "metadata": {},
   "outputs": [],
   "source": []
  },
  {
   "cell_type": "code",
   "execution_count": null,
   "metadata": {},
   "outputs": [],
   "source": []
  },
  {
   "cell_type": "code",
   "execution_count": null,
   "metadata": {},
   "outputs": [],
   "source": []
  },
  {
   "cell_type": "code",
   "execution_count": null,
   "metadata": {},
   "outputs": [],
   "source": []
  },
  {
   "cell_type": "code",
   "execution_count": null,
   "metadata": {},
   "outputs": [],
   "source": []
  }
 ],
 "metadata": {
  "kernelspec": {
   "display_name": "Python 3",
   "language": "python",
   "name": "python3"
  },
  "language_info": {
   "codemirror_mode": {
    "name": "ipython",
    "version": 3
   },
   "file_extension": ".py",
   "mimetype": "text/x-python",
   "name": "python",
   "nbconvert_exporter": "python",
   "pygments_lexer": "ipython3",
   "version": "3.12.4"
  }
 },
 "nbformat": 4,
 "nbformat_minor": 2
}
