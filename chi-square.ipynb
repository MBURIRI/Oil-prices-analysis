{
 "cells": [
  {
   "cell_type": "markdown",
   "metadata": {},
   "source": [
    "<h1 style=\"color: red;\">CHI-SQUARE TEST</h1>"
   ]
  },
  {
   "cell_type": "markdown",
   "metadata": {},
   "source": [
    "The Chi-Square test is a statistical method used to determine whether there's a significant association between two categorical variables or to test the goodness of fit of observed data to a theoretical distribution. There are two common types of Chi-Square tests:\n",
    "\n",
    "1. **Chi-Square Test for Independence**: Used to determine if there is an association between two categorical variables in a contingency table. For example, you might want to know if gender is associated with political preference.\n",
    "\n",
    "2. **Chi-Square Goodness of Fit Test**: This test evaluates how well an observed distribution of data matches a theoretical distribution. For example, you could test if the roll of a die is fair by comparing observed frequencies to expected frequencies.\n",
    "\n",
    "### Formula\n",
    "\n",
    "For both tests, the basic formula for the Chi-Square statistic is:\n",
    "\n",
    "\\[\n",
    "\\chi^2 = \\sum \\frac{(O_i - E_i)^2}{E_i}\n",
    "\\]\n",
    "\n",
    "Where:\n",
    "- \\(O_i\\) = observed frequency\n",
    "- \\(E_i\\) = expected frequency\n",
    "\n",
    "### Steps for the Chi-Square Test for Independence:\n",
    "1. **Create a Contingency Table**: Lay out the observed data for the two variables.\n",
    "2. **Calculate Expected Frequencies**: These are based on the assumption that the variables are independent.\n",
    "3. **Calculate Chi-Square Statistic**: Using the formula above.\n",
    "4. **Determine Degrees of Freedom**: For a contingency table, degrees of freedom are calculated as:\n",
    "   \n",
    "   \\[\n",
    "   df = (rows - 1) \\times (columns - 1)\n",
    "   \\]\n",
    "5. **Compare with Critical Value**: Look up the critical value in a Chi-Square distribution table (based on your degrees of freedom and significance level, usually 0.05) or use the p-value.\n",
    "\n",
    "If the calculated Chi-Square statistic exceeds the critical value or if the p-value is smaller than your significance level, you reject the null hypothesis, indicating that there is a statistically significant relationship between the variables.\n",
    "\n",
    "### Assumptions:\n",
    "- The data should be in the form of counts or frequencies, not percentages or ratios.\n",
    "- Each observation is independent of the others.\n",
    "- Expected frequency in each category should be at least 5 for the test to be valid."
   ]
  },
  {
   "cell_type": "code",
   "execution_count": 2,
   "metadata": {},
   "outputs": [],
   "source": [
    "import pandas as pd\n",
    "import numpy as np \n",
    "import scipy.stats as stats"
   ]
  },
  {
   "cell_type": "code",
   "execution_count": 4,
   "metadata": {},
   "outputs": [
    {
     "name": "stdout",
     "output_type": "stream",
     "text": [
      "kenya\n",
      "col_0      count\n",
      "row_0           \n",
      "kalengin   60000\n",
      "kambas     15000\n",
      "kikuyu    100000\n",
      "luo        50000\n",
      "other      35000\n",
      " \n",
      "Nairobi\n",
      "col_0     count\n",
      "row_0          \n",
      "kalengin    300\n",
      "kambas       75\n",
      "kikuyu      600\n",
      "luo         250\n",
      "other       150\n"
     ]
    }
   ],
   "source": [
    "kenya=(['kikuyu']*100000 + ['luo']*50000 +['kalengin']*60000 +['kambas']*15000 +['other']*35000)\n",
    "Nairobi=(['kikuyu']*600 + ['luo']*250 +['kalengin']*300 +['kambas']*75 +['other']*150)\n",
    "\n",
    "kenyan_table=pd.crosstab(index=pd.Series(kenya),columns='count')\n",
    "Nairobi_table=pd.crosstab(index=pd.Series(Nairobi),columns='count')\n",
    "\n",
    "print('kenya')\n",
    "print(kenyan_table)\n",
    "print(' ')\n",
    "print('Nairobi')\n",
    "print(Nairobi_table)"
   ]
  },
  {
   "cell_type": "code",
   "execution_count": 7,
   "metadata": {},
   "outputs": [
    {
     "name": "stdout",
     "output_type": "stream",
     "text": [
      "col_0        count\n",
      "row_0             \n",
      "kalengin  0.230769\n",
      "kambas    0.057692\n",
      "kikuyu    0.384615\n",
      "luo       0.192308\n",
      "other     0.134615\n",
      "col_0          count\n",
      "row_0               \n",
      "kalengin  317.307692\n",
      "kambas     79.326923\n",
      "kikuyu    528.846154\n",
      "luo       264.423077\n",
      "other     185.096154\n",
      "col_0\n",
      "count    18.194805\n",
      "dtype: float64\n"
     ]
    }
   ],
   "source": [
    "observed=Nairobi_table\n",
    "kenya_ratios=kenyan_table/len(kenya)\n",
    "\n",
    "print(kenya_ratios)\n",
    "expected=kenya_ratios*len(Nairobi)\n",
    "print(expected)\n",
    "chi_squared_stats=(((observed-expected)**2)/expected).sum()\n",
    "print(chi_squared_stats)"
   ]
  },
  {
   "cell_type": "code",
   "execution_count": 10,
   "metadata": {},
   "outputs": [
    {
     "name": "stdout",
     "output_type": "stream",
     "text": [
      "critical value\n",
      "9.487729036781154\n",
      "p_value\n",
      "[0.00113047]\n"
     ]
    }
   ],
   "source": [
    "crit=stats.chi2.ppf(q=0.95,df=4)\n",
    "print('critical value')\n",
    "print(crit)\n",
    "p_value=1-stats.chi2.cdf(x=chi_squared_stats,df=4)\n",
    "print('p_value')\n",
    "print(p_value)"
   ]
  },
  {
   "cell_type": "markdown",
   "metadata": {},
   "source": [
    "<h3 style=\"color: red;\">Conclusion</h3>"
   ]
  },
  {
   "cell_type": "markdown",
   "metadata": {},
   "source": [
    "since our chi squared statistic exceeds our critical value, we reject the null hypothesis that the two distributions are the same.\n",
    "we can carry out the chi squared goodness of fit test automatically by using the stats.chisquare()"
   ]
  },
  {
   "cell_type": "code",
   "execution_count": 12,
   "metadata": {},
   "outputs": [
    {
     "data": {
      "text/plain": [
       "Power_divergenceResult(statistic=array([18.19480519]), pvalue=array([0.00113047]))"
      ]
     },
     "execution_count": 12,
     "metadata": {},
     "output_type": "execute_result"
    }
   ],
   "source": [
    "stats.chisquare(f_obs=observed, f_exp=expected)"
   ]
  },
  {
   "cell_type": "markdown",
   "metadata": {},
   "source": [
    "<h2 style=\"color: red;\">CHi SQUARED TEST OF INDEPENDENCE</h2>"
   ]
  },
  {
   "cell_type": "markdown",
   "metadata": {},
   "source": [
    "The Chi-Squared Test of Independence is used when you have two categorical variables and want to see if there's a relationship between them. For example, you might want to know if gender is related to voting preference. The test works by setting up a contingency table that shows the observed counts for each combination of the categories.\n",
    "\n",
    "The null hypothesis (H₀) assumes that the two variables are independent—meaning one variable doesn't affect the other. The alternative hypothesis (H₁) suggests that there is a relationship between them.\n",
    "\n",
    "The result is a chi-squared statistic, which you compare to a critical value from the chi-squared distribution table (based on the degrees of freedom and significance level). If the calculated value is greater than the critical value, you reject the null hypothesis, concluding that there is a significant association between the variables. Otherwise, you fail to reject the null hypothesis, suggesting the variables are likely independent.\n",
    "                     "
   ]
  },
  {
   "cell_type": "code",
   "execution_count": 17,
   "metadata": {},
   "outputs": [
    {
     "data": {
      "text/html": [
       "<div>\n",
       "<style scoped>\n",
       "    .dataframe tbody tr th:only-of-type {\n",
       "        vertical-align: middle;\n",
       "    }\n",
       "\n",
       "    .dataframe tbody tr th {\n",
       "        vertical-align: top;\n",
       "    }\n",
       "\n",
       "    .dataframe thead th {\n",
       "        text-align: right;\n",
       "    }\n",
       "</style>\n",
       "<table border=\"1\" class=\"dataframe\">\n",
       "  <thead>\n",
       "    <tr style=\"text-align: right;\">\n",
       "      <th></th>\n",
       "      <th>democrats</th>\n",
       "      <th>independents</th>\n",
       "      <th>republicans</th>\n",
       "      <th>row_total</th>\n",
       "    </tr>\n",
       "  </thead>\n",
       "  <tbody>\n",
       "    <tr>\n",
       "      <th>asian</th>\n",
       "      <td>21</td>\n",
       "      <td>7</td>\n",
       "      <td>32</td>\n",
       "      <td>60</td>\n",
       "    </tr>\n",
       "    <tr>\n",
       "      <th>blacks</th>\n",
       "      <td>65</td>\n",
       "      <td>25</td>\n",
       "      <td>64</td>\n",
       "      <td>154</td>\n",
       "    </tr>\n",
       "    <tr>\n",
       "      <th>hispanic</th>\n",
       "      <td>107</td>\n",
       "      <td>50</td>\n",
       "      <td>94</td>\n",
       "      <td>251</td>\n",
       "    </tr>\n",
       "    <tr>\n",
       "      <th>other</th>\n",
       "      <td>15</td>\n",
       "      <td>8</td>\n",
       "      <td>15</td>\n",
       "      <td>38</td>\n",
       "    </tr>\n",
       "    <tr>\n",
       "      <th>white</th>\n",
       "      <td>189</td>\n",
       "      <td>96</td>\n",
       "      <td>212</td>\n",
       "      <td>497</td>\n",
       "    </tr>\n",
       "    <tr>\n",
       "      <th>col_total</th>\n",
       "      <td>397</td>\n",
       "      <td>186</td>\n",
       "      <td>417</td>\n",
       "      <td>1000</td>\n",
       "    </tr>\n",
       "  </tbody>\n",
       "</table>\n",
       "</div>"
      ],
      "text/plain": [
       "           democrats  independents  republicans  row_total\n",
       "asian             21             7           32         60\n",
       "blacks            65            25           64        154\n",
       "hispanic         107            50           94        251\n",
       "other             15             8           15         38\n",
       "white            189            96          212        497\n",
       "col_total        397           186          417       1000"
      ]
     },
     "execution_count": 17,
     "metadata": {},
     "output_type": "execute_result"
    }
   ],
   "source": [
    "np.random.seed(10)\n",
    "voter_race=np.random.choice (a=['asian','blacks','hispanic','other','white'],\n",
    "            p=[0.05,0.15,0.25,0.05,0.5],\n",
    "            size=1000)\n",
    "\n",
    "voter_party=np.random.choice(a=['democrats','independents','republicans'],\n",
    "            p=[0.4,0.2,0.4],\n",
    "            size=1000)\n",
    "voters=pd.DataFrame({'race':voter_race,\n",
    "                     'party':voter_party})\n",
    "\n",
    "voter_tab=pd.crosstab(voters.race,voters.party,margins=True)\n",
    "voter_tab.columns=['democrats','independents','republicans','row_total']\n",
    "voter_tab.index=['asian','blacks','hispanic','other','white','col_total']\n",
    "observed=voter_tab.iloc[0:5,0:3]\n",
    "voter_tab\n"
   ]
  },
  {
   "cell_type": "code",
   "execution_count": 18,
   "metadata": {},
   "outputs": [
    {
     "data": {
      "text/html": [
       "<div>\n",
       "<style scoped>\n",
       "    .dataframe tbody tr th:only-of-type {\n",
       "        vertical-align: middle;\n",
       "    }\n",
       "\n",
       "    .dataframe tbody tr th {\n",
       "        vertical-align: top;\n",
       "    }\n",
       "\n",
       "    .dataframe thead th {\n",
       "        text-align: right;\n",
       "    }\n",
       "</style>\n",
       "<table border=\"1\" class=\"dataframe\">\n",
       "  <thead>\n",
       "    <tr style=\"text-align: right;\">\n",
       "      <th></th>\n",
       "      <th>democrats</th>\n",
       "      <th>independents</th>\n",
       "      <th>republicans</th>\n",
       "    </tr>\n",
       "  </thead>\n",
       "  <tbody>\n",
       "    <tr>\n",
       "      <th>asian</th>\n",
       "      <td>23.820</td>\n",
       "      <td>11.160</td>\n",
       "      <td>25.020</td>\n",
       "    </tr>\n",
       "    <tr>\n",
       "      <th>blacks</th>\n",
       "      <td>61.138</td>\n",
       "      <td>28.644</td>\n",
       "      <td>64.218</td>\n",
       "    </tr>\n",
       "    <tr>\n",
       "      <th>hispanic</th>\n",
       "      <td>99.647</td>\n",
       "      <td>46.686</td>\n",
       "      <td>104.667</td>\n",
       "    </tr>\n",
       "    <tr>\n",
       "      <th>other</th>\n",
       "      <td>15.086</td>\n",
       "      <td>7.068</td>\n",
       "      <td>15.846</td>\n",
       "    </tr>\n",
       "    <tr>\n",
       "      <th>white</th>\n",
       "      <td>197.309</td>\n",
       "      <td>92.442</td>\n",
       "      <td>207.249</td>\n",
       "    </tr>\n",
       "  </tbody>\n",
       "</table>\n",
       "</div>"
      ],
      "text/plain": [
       "          democrats  independents  republicans\n",
       "asian        23.820        11.160       25.020\n",
       "blacks       61.138        28.644       64.218\n",
       "hispanic     99.647        46.686      104.667\n",
       "other        15.086         7.068       15.846\n",
       "white       197.309        92.442      207.249"
      ]
     },
     "execution_count": 18,
     "metadata": {},
     "output_type": "execute_result"
    }
   ],
   "source": [
    "expected=np.outer(voter_tab['row_total'][0:5],\n",
    "                  voter_tab.loc['col_total'][0:3])/1000\n",
    "expected=pd.DataFrame(expected)\n",
    "expected.columns=['democrats','independents','republicans']\n",
    "expected.index=['asian','blacks','hispanic','other','white']\n",
    "expected"
   ]
  },
  {
   "cell_type": "code",
   "execution_count": 20,
   "metadata": {},
   "outputs": [
    {
     "data": {
      "text/plain": [
       "np.float64(7.169321280162059)"
      ]
     },
     "execution_count": 20,
     "metadata": {},
     "output_type": "execute_result"
    }
   ],
   "source": [
    "chi_square_stat=(((observed-expected)**2)/expected).sum().sum()\n",
    "chi_square_stat"
   ]
  },
  {
   "cell_type": "code",
   "execution_count": 23,
   "metadata": {},
   "outputs": [
    {
     "data": {
      "text/plain": [
       "Chi2ContingencyResult(statistic=np.float64(7.169321280162059), pvalue=np.float64(0.518479392948842), dof=8, expected_freq=array([[ 23.82 ,  11.16 ,  25.02 ],\n",
       "       [ 61.138,  28.644,  64.218],\n",
       "       [ 99.647,  46.686, 104.667],\n",
       "       [ 15.086,   7.068,  15.846],\n",
       "       [197.309,  92.442, 207.249]]))"
      ]
     },
     "execution_count": 23,
     "metadata": {},
     "output_type": "execute_result"
    }
   ],
   "source": [
    "stats.chi2_contingency(observed=observed)"
   ]
  },
  {
   "cell_type": "code",
   "execution_count": 21,
   "metadata": {},
   "outputs": [
    {
     "name": "stdout",
     "output_type": "stream",
     "text": [
      "critical value\n",
      "15.507313055865453\n",
      "p_value\n",
      "[0.01981249]\n"
     ]
    }
   ],
   "source": [
    "crit=stats.chi2.ppf(q=0.95,df=8)\n",
    "print('critical value')\n",
    "print(crit)\n",
    "p_value=1-stats.chi2.cdf(x=chi_squared_stats,df=8)\n",
    "print('p_value')\n",
    "print(p_value)"
   ]
  },
  {
   "cell_type": "markdown",
   "metadata": {},
   "source": [
    " <h3 style=\"color: red;\">Conclusion</h3>"
   ]
  },
  {
   "cell_type": "markdown",
   "metadata": {},
   "source": [
    "we fail to reject the null hypothesis that the two distributions are independent\n"
   ]
  },
  {
   "cell_type": "markdown",
   "metadata": {},
   "source": []
  }
 ],
 "metadata": {
  "kernelspec": {
   "display_name": "Python 3",
   "language": "python",
   "name": "python3"
  },
  "language_info": {
   "codemirror_mode": {
    "name": "ipython",
    "version": 3
   },
   "file_extension": ".py",
   "mimetype": "text/x-python",
   "name": "python",
   "nbconvert_exporter": "python",
   "pygments_lexer": "ipython3",
   "version": "3.12.4"
  }
 },
 "nbformat": 4,
 "nbformat_minor": 2
}
