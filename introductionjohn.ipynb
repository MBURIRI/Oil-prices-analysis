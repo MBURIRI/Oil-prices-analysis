{
 "cells": [
  {
   "cell_type": "markdown",
   "metadata": {},
   "source": [
    "# oil prices in Kenya\n",
    "\n",
    "Analyze the trends in oil prices in Kenya from 2010 to 2024 by conducting a comprehensive data analytics process. Begin by defining the problem—understanding the factors influencing oil price fluctuations and their impact on the Kenyan economy. Proceed with data exploration, collecting relevant historical data and examining it for patterns and anomalies. Perform data cleaning to address any inconsistencies or missing values, ensuring the dataset is ready for analysis. Utilize various statistical models and visualization techniques, such as line graphs, histograms, and regression models, to uncover trends, correlations, and predictive insights. Finally, interpret the results to derive actionable insights that can inform policy decisions and future market predictions.\n",
    "\n",
    "<img src = \"https://etimg.etb2bimg.com/photo/72500303.cms\" width = 350 height = 200>\n",
    "\n",
    "\n",
    "Throughout the analysis, employ a structured approach: start with hypothesis generation, then move to data preprocessing, followed by detailed analysis using appropriate models. Visualize the findings through a series of charts and graphs that clearly communicate the trends and key insights. This methodical process will provide a holistic view of the oil price dynamics in Kenya over the 14-year period, highlighting significant shifts and their underlying causes."
   ]
  },
  {
   "cell_type": "markdown",
   "metadata": {},
   "source": [
    "## <font color = \"gold\">read and import the libraries</font>"
   ]
  },
  {
   "cell_type": "code",
   "execution_count": 11,
   "metadata": {},
   "outputs": [
    {
     "data": {
      "text/plain": [
       "['.git',\n",
       " 'data.csv',\n",
       " 'introduction.ipynb',\n",
       " 'Kenyan Oil prices.xlsx',\n",
       " 'README.md',\n",
       " 'report.docx',\n",
       " 'text.txt']"
      ]
     },
     "execution_count": 11,
     "metadata": {},
     "output_type": "execute_result"
    }
   ],
   "source": [
    "import os\n",
    "import pandas as pd\n",
    "import plotly_express as px\n",
    "import matplotlib.pyplot as plt\n",
    "import seaborn as sns\n",
    "os.listdir()"
   ]
  },
  {
   "cell_type": "code",
   "execution_count": 60,
   "metadata": {},
   "outputs": [
    {
     "data": {
      "text/html": [
       "<div>\n",
       "<style scoped>\n",
       "    .dataframe tbody tr th:only-of-type {\n",
       "        vertical-align: middle;\n",
       "    }\n",
       "\n",
       "    .dataframe tbody tr th {\n",
       "        vertical-align: top;\n",
       "    }\n",
       "\n",
       "    .dataframe thead th {\n",
       "        text-align: right;\n",
       "    }\n",
       "</style>\n",
       "<table border=\"1\" class=\"dataframe\">\n",
       "  <thead>\n",
       "    <tr style=\"text-align: right;\">\n",
       "      <th></th>\n",
       "      <th>PMS</th>\n",
       "      <th>AGO</th>\n",
       "      <th>DPK</th>\n",
       "      <th>Month</th>\n",
       "      <th>Year</th>\n",
       "      <th>COUNTY</th>\n",
       "      <th>TOWNS</th>\n",
       "      <th>Town</th>\n",
       "      <th>Price Per Barell</th>\n",
       "      <th>Exrates</th>\n",
       "      <th>Date</th>\n",
       "    </tr>\n",
       "  </thead>\n",
       "  <tbody>\n",
       "    <tr>\n",
       "      <th>0</th>\n",
       "      <td>92.53</td>\n",
       "      <td>85.59</td>\n",
       "      <td>74.41</td>\n",
       "      <td>Jan</td>\n",
       "      <td>2011</td>\n",
       "      <td>MOMBASA</td>\n",
       "      <td>MOMBASA</td>\n",
       "      <td>0</td>\n",
       "      <td>89.17</td>\n",
       "      <td>1900-03-21 00:41:52</td>\n",
       "      <td>2011-01-14 00:00:00</td>\n",
       "    </tr>\n",
       "    <tr>\n",
       "      <th>1</th>\n",
       "      <td>92.86</td>\n",
       "      <td>85.92</td>\n",
       "      <td>74.74</td>\n",
       "      <td>Jan</td>\n",
       "      <td>2011</td>\n",
       "      <td>0</td>\n",
       "      <td>LIKONI MAINLAND</td>\n",
       "      <td>0</td>\n",
       "      <td>89.17</td>\n",
       "      <td>1900-03-21 00:41:52</td>\n",
       "      <td>2011-01-14 00:00:00</td>\n",
       "    </tr>\n",
       "    <tr>\n",
       "      <th>2</th>\n",
       "      <td>92.71</td>\n",
       "      <td>85.77</td>\n",
       "      <td>74.6</td>\n",
       "      <td>Jan</td>\n",
       "      <td>2011</td>\n",
       "      <td>KILIFI</td>\n",
       "      <td>KILIFI</td>\n",
       "      <td>0</td>\n",
       "      <td>89.17</td>\n",
       "      <td>1900-03-21 00:41:52</td>\n",
       "      <td>2011-01-14 00:00:00</td>\n",
       "    </tr>\n",
       "    <tr>\n",
       "      <th>3</th>\n",
       "      <td>93.29</td>\n",
       "      <td>86.35</td>\n",
       "      <td>75.18</td>\n",
       "      <td>Jan</td>\n",
       "      <td>2011</td>\n",
       "      <td>0</td>\n",
       "      <td>MALINDI</td>\n",
       "      <td>0</td>\n",
       "      <td>89.17</td>\n",
       "      <td>1900-03-21 00:41:52</td>\n",
       "      <td>2011-01-14 00:00:00</td>\n",
       "    </tr>\n",
       "    <tr>\n",
       "      <th>4</th>\n",
       "      <td>92.87</td>\n",
       "      <td>85.93</td>\n",
       "      <td>74.75</td>\n",
       "      <td>Jan</td>\n",
       "      <td>2011</td>\n",
       "      <td>KWALE</td>\n",
       "      <td>KWALE</td>\n",
       "      <td>0</td>\n",
       "      <td>89.17</td>\n",
       "      <td>1900-03-21 00:41:52</td>\n",
       "      <td>2011-01-14 00:00:00</td>\n",
       "    </tr>\n",
       "  </tbody>\n",
       "</table>\n",
       "</div>"
      ],
      "text/plain": [
       "     PMS    AGO    DPK Month  Year   COUNTY            TOWNS Town  \\\n",
       "0  92.53  85.59  74.41   Jan  2011  MOMBASA          MOMBASA    0   \n",
       "1  92.86  85.92  74.74   Jan  2011        0  LIKONI MAINLAND    0   \n",
       "2  92.71  85.77   74.6   Jan  2011   KILIFI           KILIFI    0   \n",
       "3  93.29  86.35  75.18   Jan  2011        0          MALINDI    0   \n",
       "4  92.87  85.93  74.75   Jan  2011    KWALE            KWALE    0   \n",
       "\n",
       "   Price Per Barell              Exrates                 Date  \n",
       "0             89.17  1900-03-21 00:41:52  2011-01-14 00:00:00  \n",
       "1             89.17  1900-03-21 00:41:52  2011-01-14 00:00:00  \n",
       "2             89.17  1900-03-21 00:41:52  2011-01-14 00:00:00  \n",
       "3             89.17  1900-03-21 00:41:52  2011-01-14 00:00:00  \n",
       "4             89.17  1900-03-21 00:41:52  2011-01-14 00:00:00  "
      ]
     },
     "execution_count": 60,
     "metadata": {},
     "output_type": "execute_result"
    }
   ],
   "source": [
    "df =  pd.read_excel('Kenyan Oil prices.xlsx')\n",
    "df.head()"
   ]
  },
  {
   "cell_type": "markdown",
   "metadata": {},
   "source": [
    "## <font color = \"teal\">Explore the data</font>"
   ]
  },
  {
   "cell_type": "code",
   "execution_count": 61,
   "metadata": {},
   "outputs": [
    {
     "name": "stdout",
     "output_type": "stream",
     "text": [
      "(16893, 11)\n",
      "<class 'pandas.core.frame.DataFrame'>\n",
      "RangeIndex: 16893 entries, 0 to 16892\n",
      "Data columns (total 11 columns):\n",
      " #   Column            Non-Null Count  Dtype  \n",
      "---  ------            --------------  -----  \n",
      " 0   PMS               16893 non-null  object \n",
      " 1   AGO               16893 non-null  object \n",
      " 2   DPK               16893 non-null  object \n",
      " 3   Month             16893 non-null  object \n",
      " 4   Year              16893 non-null  int64  \n",
      " 5   COUNTY            16893 non-null  object \n",
      " 6   TOWNS             16893 non-null  object \n",
      " 7   Town              16893 non-null  object \n",
      " 8   Price Per Barell  16893 non-null  float64\n",
      " 9   Exrates           16893 non-null  object \n",
      " 10  Date              16893 non-null  object \n",
      "dtypes: float64(1), int64(1), object(9)\n",
      "memory usage: 1.4+ MB\n",
      "None\n"
     ]
    }
   ],
   "source": [
    "print(df.shape)\n",
    "print(df.info())\n"
   ]
  },
  {
   "cell_type": "code",
   "execution_count": 62,
   "metadata": {},
   "outputs": [
    {
     "name": "stdout",
     "output_type": "stream",
     "text": [
      "<class 'pandas.core.frame.DataFrame'>\n",
      "RangeIndex: 16893 entries, 0 to 16892\n",
      "Data columns (total 11 columns):\n",
      " #   Column            Non-Null Count  Dtype         \n",
      "---  ------            --------------  -----         \n",
      " 0   PMS               16877 non-null  float64       \n",
      " 1   AGO               16887 non-null  float64       \n",
      " 2   DPK               16886 non-null  float64       \n",
      " 3   Month             16893 non-null  object        \n",
      " 4   Year              16893 non-null  int64         \n",
      " 5   COUNTY            16893 non-null  object        \n",
      " 6   TOWNS             16893 non-null  object        \n",
      " 7   Town              16893 non-null  object        \n",
      " 8   Price Per Barell  16893 non-null  float64       \n",
      " 9   Exrates           16893 non-null  object        \n",
      " 10  Date              15332 non-null  datetime64[ns]\n",
      "dtypes: datetime64[ns](1), float64(4), int64(1), object(5)\n",
      "memory usage: 1.4+ MB\n"
     ]
    },
    {
     "data": {
      "text/html": [
       "<div>\n",
       "<style scoped>\n",
       "    .dataframe tbody tr th:only-of-type {\n",
       "        vertical-align: middle;\n",
       "    }\n",
       "\n",
       "    .dataframe tbody tr th {\n",
       "        vertical-align: top;\n",
       "    }\n",
       "\n",
       "    .dataframe thead th {\n",
       "        text-align: right;\n",
       "    }\n",
       "</style>\n",
       "<table border=\"1\" class=\"dataframe\">\n",
       "  <thead>\n",
       "    <tr style=\"text-align: right;\">\n",
       "      <th></th>\n",
       "      <th>PMS</th>\n",
       "      <th>AGO</th>\n",
       "      <th>DPK</th>\n",
       "      <th>Year</th>\n",
       "      <th>Price Per Barell</th>\n",
       "      <th>Date</th>\n",
       "    </tr>\n",
       "  </thead>\n",
       "  <tbody>\n",
       "    <tr>\n",
       "      <th>count</th>\n",
       "      <td>16877.000000</td>\n",
       "      <td>16887.000000</td>\n",
       "      <td>16886.000000</td>\n",
       "      <td>16893.000000</td>\n",
       "      <td>16893.000000</td>\n",
       "      <td>15332</td>\n",
       "    </tr>\n",
       "    <tr>\n",
       "      <th>mean</th>\n",
       "      <td>140.105029</td>\n",
       "      <td>125.052554</td>\n",
       "      <td>116.226704</td>\n",
       "      <td>2018.944119</td>\n",
       "      <td>64.679676</td>\n",
       "      <td>2018-12-21 12:08:55.350899968</td>\n",
       "    </tr>\n",
       "    <tr>\n",
       "      <th>min</th>\n",
       "      <td>11.030000</td>\n",
       "      <td>10.870000</td>\n",
       "      <td>10.210000</td>\n",
       "      <td>2011.000000</td>\n",
       "      <td>0.000000</td>\n",
       "      <td>2011-01-14 00:00:00</td>\n",
       "    </tr>\n",
       "    <tr>\n",
       "      <th>25%</th>\n",
       "      <td>107.893723</td>\n",
       "      <td>98.320000</td>\n",
       "      <td>82.854236</td>\n",
       "      <td>2016.000000</td>\n",
       "      <td>45.740000</td>\n",
       "      <td>2015-12-14 00:00:00</td>\n",
       "    </tr>\n",
       "    <tr>\n",
       "      <th>50%</th>\n",
       "      <td>118.129006</td>\n",
       "      <td>108.520000</td>\n",
       "      <td>99.980000</td>\n",
       "      <td>2020.000000</td>\n",
       "      <td>67.710000</td>\n",
       "      <td>2020-01-14 00:00:00</td>\n",
       "    </tr>\n",
       "    <tr>\n",
       "      <th>75%</th>\n",
       "      <td>175.340000</td>\n",
       "      <td>160.060000</td>\n",
       "      <td>144.050000</td>\n",
       "      <td>2022.000000</td>\n",
       "      <td>92.020000</td>\n",
       "      <td>2022-03-14 00:00:00</td>\n",
       "    </tr>\n",
       "    <tr>\n",
       "      <th>max</th>\n",
       "      <td>11790.000000</td>\n",
       "      <td>11370.000000</td>\n",
       "      <td>10718.000000</td>\n",
       "      <td>2024.000000</td>\n",
       "      <td>117.530000</td>\n",
       "      <td>2023-08-14 00:00:00</td>\n",
       "    </tr>\n",
       "    <tr>\n",
       "      <th>std</th>\n",
       "      <td>247.732245</td>\n",
       "      <td>169.469514</td>\n",
       "      <td>244.307113</td>\n",
       "      <td>3.796967</td>\n",
       "      <td>32.089730</td>\n",
       "      <td>NaN</td>\n",
       "    </tr>\n",
       "  </tbody>\n",
       "</table>\n",
       "</div>"
      ],
      "text/plain": [
       "                PMS           AGO           DPK          Year  \\\n",
       "count  16877.000000  16887.000000  16886.000000  16893.000000   \n",
       "mean     140.105029    125.052554    116.226704   2018.944119   \n",
       "min       11.030000     10.870000     10.210000   2011.000000   \n",
       "25%      107.893723     98.320000     82.854236   2016.000000   \n",
       "50%      118.129006    108.520000     99.980000   2020.000000   \n",
       "75%      175.340000    160.060000    144.050000   2022.000000   \n",
       "max    11790.000000  11370.000000  10718.000000   2024.000000   \n",
       "std      247.732245    169.469514    244.307113      3.796967   \n",
       "\n",
       "       Price Per Barell                           Date  \n",
       "count      16893.000000                          15332  \n",
       "mean          64.679676  2018-12-21 12:08:55.350899968  \n",
       "min            0.000000            2011-01-14 00:00:00  \n",
       "25%           45.740000            2015-12-14 00:00:00  \n",
       "50%           67.710000            2020-01-14 00:00:00  \n",
       "75%           92.020000            2022-03-14 00:00:00  \n",
       "max          117.530000            2023-08-14 00:00:00  \n",
       "std           32.089730                            NaN  "
      ]
     },
     "execution_count": 62,
     "metadata": {},
     "output_type": "execute_result"
    }
   ],
   "source": [
    "df['PMS'] = pd.to_numeric(df['PMS'],errors = 'coerce')\n",
    "df['AGO'] = pd.to_numeric(df['AGO'],errors = 'coerce')\n",
    "df['DPK'] = pd.to_numeric(df['DPK'],errors = 'coerce')\n",
    "df['Date'] = pd.to_datetime(df['Date'],errors = 'coerce')\n",
    "df['Year'] = pd.to_numeric(df['Year'],errors = 'coerce')\n",
    "df.info()\n",
    "df.describe()"
   ]
  },
  {
   "cell_type": "markdown",
   "metadata": {},
   "source": [
    "## <font color = \"cyan\"> EDA Analysis </font>"
   ]
  },
  {
   "cell_type": "code",
   "execution_count": 33,
   "metadata": {},
   "outputs": [
    {
     "data": {
      "text/html": [
       "<div>\n",
       "<style scoped>\n",
       "    .dataframe tbody tr th:only-of-type {\n",
       "        vertical-align: middle;\n",
       "    }\n",
       "\n",
       "    .dataframe tbody tr th {\n",
       "        vertical-align: top;\n",
       "    }\n",
       "\n",
       "    .dataframe thead th {\n",
       "        text-align: right;\n",
       "    }\n",
       "</style>\n",
       "<table border=\"1\" class=\"dataframe\">\n",
       "  <thead>\n",
       "    <tr style=\"text-align: right;\">\n",
       "      <th></th>\n",
       "      <th>PMS</th>\n",
       "      <th>AGO</th>\n",
       "      <th>DPK</th>\n",
       "      <th>Month</th>\n",
       "      <th>Year</th>\n",
       "      <th>COUNTY</th>\n",
       "      <th>TOWNS</th>\n",
       "      <th>Town</th>\n",
       "      <th>Price Per Barell</th>\n",
       "      <th>Exrates</th>\n",
       "      <th>Date</th>\n",
       "    </tr>\n",
       "  </thead>\n",
       "  <tbody>\n",
       "    <tr>\n",
       "      <th>16888</th>\n",
       "      <td>199.99</td>\n",
       "      <td>191.60</td>\n",
       "      <td>189.98</td>\n",
       "      <td>Mar</td>\n",
       "      <td>2024</td>\n",
       "      <td>0</td>\n",
       "      <td>0.00</td>\n",
       "      <td>Keumbu</td>\n",
       "      <td>0.0</td>\n",
       "      <td>1899-12-30 00:00:00</td>\n",
       "      <td>NaT</td>\n",
       "    </tr>\n",
       "    <tr>\n",
       "      <th>16889</th>\n",
       "      <td>199.66</td>\n",
       "      <td>191.28</td>\n",
       "      <td>189.66</td>\n",
       "      <td>Mar</td>\n",
       "      <td>2024</td>\n",
       "      <td>0</td>\n",
       "      <td>0.00</td>\n",
       "      <td>Marani</td>\n",
       "      <td>0.0</td>\n",
       "      <td>1899-12-30 00:00:00</td>\n",
       "      <td>NaT</td>\n",
       "    </tr>\n",
       "    <tr>\n",
       "      <th>16890</th>\n",
       "      <td>200.06</td>\n",
       "      <td>191.67</td>\n",
       "      <td>190.05</td>\n",
       "      <td>Mar</td>\n",
       "      <td>2024</td>\n",
       "      <td>0</td>\n",
       "      <td>0.00</td>\n",
       "      <td>Kerina</td>\n",
       "      <td>0.0</td>\n",
       "      <td>1899-12-30 00:00:00</td>\n",
       "      <td>NaT</td>\n",
       "    </tr>\n",
       "    <tr>\n",
       "      <th>16891</th>\n",
       "      <td>199.36</td>\n",
       "      <td>190.97</td>\n",
       "      <td>189.36</td>\n",
       "      <td>Mar</td>\n",
       "      <td>2024</td>\n",
       "      <td>0</td>\n",
       "      <td>0.00</td>\n",
       "      <td>Ikonge</td>\n",
       "      <td>0.0</td>\n",
       "      <td>1899-12-30 00:00:00</td>\n",
       "      <td>NaT</td>\n",
       "    </tr>\n",
       "    <tr>\n",
       "      <th>16892</th>\n",
       "      <td>199.79</td>\n",
       "      <td>191.40</td>\n",
       "      <td>189.79</td>\n",
       "      <td>Mar</td>\n",
       "      <td>2024</td>\n",
       "      <td>0</td>\n",
       "      <td>0.00</td>\n",
       "      <td>Nyansiongo</td>\n",
       "      <td>0.0</td>\n",
       "      <td>1899-12-30 00:00:00</td>\n",
       "      <td>NaT</td>\n",
       "    </tr>\n",
       "  </tbody>\n",
       "</table>\n",
       "</div>"
      ],
      "text/plain": [
       "          PMS     AGO     DPK Month  Year COUNTY TOWNS        Town  \\\n",
       "16888  199.99  191.60  189.98   Mar  2024      0  0.00      Keumbu   \n",
       "16889  199.66  191.28  189.66   Mar  2024      0  0.00      Marani   \n",
       "16890  200.06  191.67  190.05   Mar  2024      0  0.00      Kerina   \n",
       "16891  199.36  190.97  189.36   Mar  2024      0  0.00      Ikonge   \n",
       "16892  199.79  191.40  189.79   Mar  2024      0  0.00  Nyansiongo   \n",
       "\n",
       "       Price Per Barell              Exrates Date  \n",
       "16888               0.0  1899-12-30 00:00:00  NaT  \n",
       "16889               0.0  1899-12-30 00:00:00  NaT  \n",
       "16890               0.0  1899-12-30 00:00:00  NaT  \n",
       "16891               0.0  1899-12-30 00:00:00  NaT  \n",
       "16892               0.0  1899-12-30 00:00:00  NaT  "
      ]
     },
     "execution_count": 33,
     "metadata": {},
     "output_type": "execute_result"
    }
   ],
   "source": []
  },
  {
   "cell_type": "code",
   "execution_count": 40,
   "metadata": {},
   "outputs": [
    {
     "data": {
      "text/html": [
       "<div>\n",
       "<style scoped>\n",
       "    .dataframe tbody tr th:only-of-type {\n",
       "        vertical-align: middle;\n",
       "    }\n",
       "\n",
       "    .dataframe tbody tr th {\n",
       "        vertical-align: top;\n",
       "    }\n",
       "\n",
       "    .dataframe thead th {\n",
       "        text-align: right;\n",
       "    }\n",
       "</style>\n",
       "<table border=\"1\" class=\"dataframe\">\n",
       "  <thead>\n",
       "    <tr style=\"text-align: right;\">\n",
       "      <th></th>\n",
       "      <th>PMS</th>\n",
       "      <th>AGO</th>\n",
       "      <th>DPK</th>\n",
       "      <th>Month</th>\n",
       "      <th>Year</th>\n",
       "      <th>COUNTY</th>\n",
       "      <th>TOWNS</th>\n",
       "      <th>Town</th>\n",
       "      <th>Price Per Barell</th>\n",
       "      <th>Exrates</th>\n",
       "      <th>Date</th>\n",
       "    </tr>\n",
       "  </thead>\n",
       "  <tbody>\n",
       "    <tr>\n",
       "      <th>8494</th>\n",
       "      <td>103.95</td>\n",
       "      <td>94.63</td>\n",
       "      <td>83.65</td>\n",
       "      <td>Aug</td>\n",
       "      <td>2020</td>\n",
       "      <td>0</td>\n",
       "      <td>NAIROBI</td>\n",
       "      <td>0</td>\n",
       "      <td>44.28</td>\n",
       "      <td>1900-04-17 03:19:24</td>\n",
       "      <td>2020-08-14</td>\n",
       "    </tr>\n",
       "    <tr>\n",
       "      <th>8643</th>\n",
       "      <td>105.43</td>\n",
       "      <td>94.51</td>\n",
       "      <td>83.15</td>\n",
       "      <td>Sep</td>\n",
       "      <td>2020</td>\n",
       "      <td>0</td>\n",
       "      <td>NAIROBI</td>\n",
       "      <td>0</td>\n",
       "      <td>45.74</td>\n",
       "      <td>1900-04-17 09:47:19</td>\n",
       "      <td>2020-09-14</td>\n",
       "    </tr>\n",
       "    <tr>\n",
       "      <th>8792</th>\n",
       "      <td>107.27</td>\n",
       "      <td>92.91</td>\n",
       "      <td>83.73</td>\n",
       "      <td>Oct</td>\n",
       "      <td>2020</td>\n",
       "      <td>0</td>\n",
       "      <td>NAIROBI</td>\n",
       "      <td>0</td>\n",
       "      <td>42.35</td>\n",
       "      <td>1900-04-17 15:18:59</td>\n",
       "      <td>2020-10-14</td>\n",
       "    </tr>\n",
       "    <tr>\n",
       "      <th>8941</th>\n",
       "      <td>105.85</td>\n",
       "      <td>90.70</td>\n",
       "      <td>81.63</td>\n",
       "      <td>Nov</td>\n",
       "      <td>2020</td>\n",
       "      <td>0</td>\n",
       "      <td>NAIROBI</td>\n",
       "      <td>0</td>\n",
       "      <td>40.16</td>\n",
       "      <td>1900-04-18 06:02:58</td>\n",
       "      <td>2020-11-14</td>\n",
       "    </tr>\n",
       "    <tr>\n",
       "      <th>9090</th>\n",
       "      <td>106.82</td>\n",
       "      <td>91.82</td>\n",
       "      <td>83.56</td>\n",
       "      <td>Dec</td>\n",
       "      <td>2020</td>\n",
       "      <td>0</td>\n",
       "      <td>NAIROBI</td>\n",
       "      <td>0</td>\n",
       "      <td>43.04</td>\n",
       "      <td>1900-04-19 14:14:43</td>\n",
       "      <td>2020-12-14</td>\n",
       "    </tr>\n",
       "  </tbody>\n",
       "</table>\n",
       "</div>"
      ],
      "text/plain": [
       "         PMS    AGO    DPK Month  Year COUNTY    TOWNS Town  Price Per Barell  \\\n",
       "8494  103.95  94.63  83.65   Aug  2020      0  NAIROBI    0             44.28   \n",
       "8643  105.43  94.51  83.15   Sep  2020      0  NAIROBI    0             45.74   \n",
       "8792  107.27  92.91  83.73   Oct  2020      0  NAIROBI    0             42.35   \n",
       "8941  105.85  90.70  81.63   Nov  2020      0  NAIROBI    0             40.16   \n",
       "9090  106.82  91.82  83.56   Dec  2020      0  NAIROBI    0             43.04   \n",
       "\n",
       "                  Exrates       Date  \n",
       "8494  1900-04-17 03:19:24 2020-08-14  \n",
       "8643  1900-04-17 09:47:19 2020-09-14  \n",
       "8792  1900-04-17 15:18:59 2020-10-14  \n",
       "8941  1900-04-18 06:02:58 2020-11-14  \n",
       "9090  1900-04-19 14:14:43 2020-12-14  "
      ]
     },
     "execution_count": 40,
     "metadata": {},
     "output_type": "execute_result"
    }
   ],
   "source": [
    "# Filter rows where the 'Date' is before January 1, 2024\n",
    "y = df[df['Date'] < pd.to_datetime('01/01/2024')]\n",
    "\n",
    "# Further filter rows where 'TOWNS' is 'NAIROBI'\n",
    "y = y[y['TOWNS'] == 'NAIROBI']\n",
    "\n",
    "# Display the last 5 rows of the filtered DataFrame\n",
    "y.tail()\n"
   ]
  },
  {
   "cell_type": "code",
   "execution_count": 41,
   "metadata": {},
   "outputs": [
    {
     "name": "stderr",
     "output_type": "stream",
     "text": [
      "c:\\Users\\kkama\\AppData\\Local\\anaconda3\\Lib\\site-packages\\seaborn\\_oldcore.py:1119: FutureWarning: use_inf_as_na option is deprecated and will be removed in a future version. Convert inf values to NaN before operating instead.\n",
      "  with pd.option_context('mode.use_inf_as_na', True):\n",
      "c:\\Users\\kkama\\AppData\\Local\\anaconda3\\Lib\\site-packages\\seaborn\\_oldcore.py:1119: FutureWarning: use_inf_as_na option is deprecated and will be removed in a future version. Convert inf values to NaN before operating instead.\n",
      "  with pd.option_context('mode.use_inf_as_na', True):\n",
      "c:\\Users\\kkama\\AppData\\Local\\anaconda3\\Lib\\site-packages\\seaborn\\_oldcore.py:1119: FutureWarning: use_inf_as_na option is deprecated and will be removed in a future version. Convert inf values to NaN before operating instead.\n",
      "  with pd.option_context('mode.use_inf_as_na', True):\n",
      "c:\\Users\\kkama\\AppData\\Local\\anaconda3\\Lib\\site-packages\\seaborn\\_oldcore.py:1119: FutureWarning: use_inf_as_na option is deprecated and will be removed in a future version. Convert inf values to NaN before operating instead.\n",
      "  with pd.option_context('mode.use_inf_as_na', True):\n"
     ]
    },
    {
     "data": {
      "image/png": "[encoded data removed]",
      "text/plain": [
       "<Figure size 1000x500 with 1 Axes>"
      ]
     },
     "metadata": {},
     "output_type": "display_data"
    }
   ],
   "source": [
    "import matplotlib.pyplot as plt\n",
    "import seaborn as sns\n",
    "\n",
    "\n",
    "# Set a custom theme\n",
    "sns.set_theme(style=\"darkgrid\")\n",
    "\n",
    "# Create the plot\n",
    "plt.figure(figsize=(10, 5))\n",
    "\n",
    "# Customize the line plot with custom colors\n",
    "sns.lineplot(data=y, x='Date', y='Price Per Barell', marker='o', linestyle='--', color='#00AE9F',label  =\"international market\")\n",
    "sns.lineplot(data=y, x='Date', y='PMS', marker='*', linestyle='--', color='#358eca',label = \"local market\")\n",
    "\n",
    "# Add a more interesting title\n",
    "plt.title(\"Tracking the Surge: PMS Oil Prices Over Time (2010-Present)\", fontsize=16, fontweight='bold', color='#7D4E24')\n",
    "plt.legend()\n",
    "# Show the plot|\n",
    "plt.show()\n"
   ]
  },
  {
   "cell_type": "code",
   "execution_count": 44,
   "metadata": {},
   "outputs": [
    {
     "name": "stderr",
     "output_type": "stream",
     "text": [
      "c:\\Users\\kkama\\AppData\\Local\\anaconda3\\Lib\\site-packages\\_plotly_utils\\basevalidators.py:106: FutureWarning:\n",
      "\n",
      "The behavior of DatetimeProperties.to_pydatetime is deprecated, in a future version this will return a Series containing python datetime objects instead of an ndarray. To retain the old behavior, call `np.array` on the result\n",
      "\n"
     ]
    },
    {
     "data": {
      "application/vnd.plotly.v1+json": {
       "config": {
        "plotlyServerURL": "https://plot.ly"
       },
       "data": [
        {
         "hovertemplate": "variable=PMS<br>Date=%{x}<br>value=%{y}<extra></extra>",
         "legendgroup": "PMS",
         "line": {
          "color": "#636efa",
          "dash": "solid"
         },
         "marker": {
          "symbol": "circle"
         },
         "mode": "lines",
         "name": "PMS",
         "orientation": "v",
         "showlegend": true,
         "type": "scatter",
         "x": [
          "2011-01-14T00:00:00",
          "2011-02-14T00:00:00",
          "2011-03-14T00:00:00",
          "2011-04-14T00:00:00",
          "2011-05-14T00:00:00",
          "2011-06-14T00:00:00",
          "2011-07-14T00:00:00",
          "2011-08-14T00:00:00",
          "2011-09-14T00:00:00",
          "2011-10-14T00:00:00",
          "2011-11-14T00:00:00",
          "2011-12-14T00:00:00",
          "2012-01-14T00:00:00",
          "2012-02-14T00:00:00",
          "2012-03-14T00:00:00",
          "2012-04-14T00:00:00",
          "2012-05-14T00:00:00",
          "2012-06-14T00:00:00",
          "2012-07-14T00:00:00",
          "2012-08-14T00:00:00",
          "2012-09-14T00:00:00",
          "2012-10-14T00:00:00",
          "2012-11-14T00:00:00",
          "2012-12-14T00:00:00",
          "2013-01-14T00:00:00",
          "2013-02-14T00:00:00",
          "2013-03-14T00:00:00",
          "2013-04-14T00:00:00",
          "2013-05-14T00:00:00",
          "2013-06-14T00:00:00",
          "2013-07-14T00:00:00",
          "2013-08-14T00:00:00",
          "2013-09-14T00:00:00",
          "2013-10-14T00:00:00",
          "2013-11-14T00:00:00",
          "2013-12-14T00:00:00",
          "2014-01-14T00:00:00",
          "2014-02-14T00:00:00",
          "2014-03-14T00:00:00",
          "2014-04-14T00:00:00",
          "2014-05-14T00:00:00",
          "2014-06-14T00:00:00",
          "2014-07-14T00:00:00",
          "2014-08-14T00:00:00",
          "2014-09-14T00:00:00",
          "2014-10-14T00:00:00",
          "2014-11-14T00:00:00",
          "2014-12-14T00:00:00",
          "2015-02-14T00:00:00",
          "2015-03-14T00:00:00",
          "2015-04-14T00:00:00",
          "2015-05-14T00:00:00",
          "2015-06-14T00:00:00",
          "2015-07-14T00:00:00",
          "2015-08-14T00:00:00",
          "2015-09-14T00:00:00",
          "2015-10-14T00:00:00",
          "2015-11-14T00:00:00",
          "2015-12-14T00:00:00",
          "2016-01-14T00:00:00",
          "2016-02-14T00:00:00",
          "2016-03-14T00:00:00",
          "2016-04-14T00:00:00",
          "2016-05-14T00:00:00",
          "2016-06-14T00:00:00",
          "2016-07-14T00:00:00",
          "2016-08-14T00:00:00",
          "2016-09-14T00:00:00",
          "2016-10-14T00:00:00",
          "2016-11-14T00:00:00",
          "2016-12-14T00:00:00",
          "2017-01-14T00:00:00",
          "2017-02-14T00:00:00",
          "2017-03-14T00:00:00",
          "2017-04-14T00:00:00",
          "2017-05-14T00:00:00",
          "2017-06-14T00:00:00",
          "2017-07-14T00:00:00",
          "2017-08-14T00:00:00",
          "2017-09-14T00:00:00",
          "2017-10-14T00:00:00",
          "2017-11-14T00:00:00",
          "2017-12-14T00:00:00",
          "2018-01-14T00:00:00",
          "2018-02-14T00:00:00",
          "2018-03-14T00:00:00",
          "2018-04-14T00:00:00",
          "2018-05-14T00:00:00",
          "2018-06-14T00:00:00",
          "2018-07-14T00:00:00",
          "2018-08-14T00:00:00",
          "2018-09-14T00:00:00",
          "2018-10-14T00:00:00",
          "2018-11-14T00:00:00",
          "2018-12-14T00:00:00",
          "2019-01-14T00:00:00",
          "2019-02-14T00:00:00",
          "2019-03-14T00:00:00",
          "2019-04-14T00:00:00",
          "2019-05-14T00:00:00",
          "2019-06-14T00:00:00",
          "2019-07-14T00:00:00",
          "2019-08-14T00:00:00",
          "2019-09-14T00:00:00",
          "2019-10-14T00:00:00",
          "2019-11-14T00:00:00",
          "2019-12-14T00:00:00",
          "2020-01-14T00:00:00",
          "2020-02-14T00:00:00",
          "2020-03-14T00:00:00",
          "2020-04-14T00:00:00",
          "2020-05-14T00:00:00",
          "2020-06-14T00:00:00",
          "2020-07-14T00:00:00",
          "2020-08-14T00:00:00",
          "2020-09-14T00:00:00",
          "2020-10-14T00:00:00",
          "2020-11-14T00:00:00",
          "2020-12-14T00:00:00"
         ],
         "xaxis": "x",
         "y": [
          95.67,
          98.08,
          102.44,
          111.17,
          111.17,
          114.93,
          115.39,
          117.22,
          117.75,
          120.5,
          124.13,
          119.06,
          111.95,
          111.32,
          111.69,
          118.5,
          121.13,
          117.67,
          108.46,
          106.48,
          108.95,
          115.26,
          113.68,
          112.61,
          111.6,
          113.57,
          117.69,
          117.65,
          113.24,
          108.18,
          109.52,
          112.26,
          113.88,
          112.27,
          108.87,
          109.28,
          110.59,
          111.55,
          113.61,
          114.16,
          114.73,
          114.62,
          115.86,
          116.62,
          111.64,
          110.89,
          106.8,
          102.01,
          84.71,
          89.46,
          89.35,
          92.89,
          97.28,
          98.59,
          102.65,
          102.65,
          93.29,
          90.46,
          90.06,
          88.64,
          86.5,
          85.58,
          80.71,
          84.25,
          86.17,
          95.13,
          91.39,
          91.56,
          91.56,
          94.94,
          94.2,
          96.01,
          100.27,
          101.05,
          98,
          99.59,
          98.73,
          97.1,
          96.08,
          98.3,
          101.67,
          102.7,
          104.17,
          106.3,
          107.92,
          107.46,
          106.83,
          107.17,
          108.81,
          112.2,
          113.73,
          116.79,
          115.73,
          118.11,
          113.54,
          104.21,
          100.09,
          101.35,
          106.6,
          112.03,
          115.1,
          115.39,
          112.53,
          112.81,
          108.05,
          110.65435987886988,
          109.5,
          110.2,
          112.87,
          110.87,
          92.86928053699759,
          83.33054196174203,
          89.10331627341138,
          100.47896451657651,
          103.95,
          105.43,
          107.27,
          105.85,
          106.82
         ],
         "yaxis": "y"
        },
        {
         "hovertemplate": "variable=AGO<br>Date=%{x}<br>value=%{y}<extra></extra>",
         "legendgroup": "AGO",
         "line": {
          "color": "#EF553B",
          "dash": "solid"
         },
         "marker": {
          "symbol": "circle"
         },
         "mode": "lines",
         "name": "AGO",
         "orientation": "v",
         "showlegend": true,
         "type": "scatter",
         "x": [
          "2011-01-14T00:00:00",
          "2011-02-14T00:00:00",
          "2011-03-14T00:00:00",
          "2011-04-14T00:00:00",
          "2011-05-14T00:00:00",
          "2011-06-14T00:00:00",
          "2011-07-14T00:00:00",
          "2011-08-14T00:00:00",
          "2011-09-14T00:00:00",
          "2011-10-14T00:00:00",
          "2011-11-14T00:00:00",
          "2011-12-14T00:00:00",
          "2012-01-14T00:00:00",
          "2012-02-14T00:00:00",
          "2012-03-14T00:00:00",
          "2012-04-14T00:00:00",
          "2012-05-14T00:00:00",
          "2012-06-14T00:00:00",
          "2012-07-14T00:00:00",
          "2012-08-14T00:00:00",
          "2012-09-14T00:00:00",
          "2012-10-14T00:00:00",
          "2012-11-14T00:00:00",
          "2012-12-14T00:00:00",
          "2013-01-14T00:00:00",
          "2013-02-14T00:00:00",
          "2013-03-14T00:00:00",
          "2013-04-14T00:00:00",
          "2013-05-14T00:00:00",
          "2013-06-14T00:00:00",
          "2013-07-14T00:00:00",
          "2013-08-14T00:00:00",
          "2013-09-14T00:00:00",
          "2013-10-14T00:00:00",
          "2013-11-14T00:00:00",
          "2013-12-14T00:00:00",
          "2014-01-14T00:00:00",
          "2014-02-14T00:00:00",
          "2014-03-14T00:00:00",
          "2014-04-14T00:00:00",
          "2014-05-14T00:00:00",
          "2014-06-14T00:00:00",
          "2014-07-14T00:00:00",
          "2014-08-14T00:00:00",
          "2014-09-14T00:00:00",
          "2014-10-14T00:00:00",
          "2014-11-14T00:00:00",
          "2014-12-14T00:00:00",
          "2015-02-14T00:00:00",
          "2015-03-14T00:00:00",
          "2015-04-14T00:00:00",
          "2015-05-14T00:00:00",
          "2015-06-14T00:00:00",
          "2015-07-14T00:00:00",
          "2015-08-14T00:00:00",
          "2015-09-14T00:00:00",
          "2015-10-14T00:00:00",
          "2015-11-14T00:00:00",
          "2015-12-14T00:00:00",
          "2016-01-14T00:00:00",
          "2016-02-14T00:00:00",
          "2016-03-14T00:00:00",
          "2016-04-14T00:00:00",
          "2016-05-14T00:00:00",
          "2016-06-14T00:00:00",
          "2016-07-14T00:00:00",
          "2016-08-14T00:00:00",
          "2016-09-14T00:00:00",
          "2016-10-14T00:00:00",
          "2016-11-14T00:00:00",
          "2016-12-14T00:00:00",
          "2017-01-14T00:00:00",
          "2017-02-14T00:00:00",
          "2017-03-14T00:00:00",
          "2017-04-14T00:00:00",
          "2017-05-14T00:00:00",
          "2017-06-14T00:00:00",
          "2017-07-14T00:00:00",
          "2017-08-14T00:00:00",
          "2017-09-14T00:00:00",
          "2017-10-14T00:00:00",
          "2017-11-14T00:00:00",
          "2017-12-14T00:00:00",
          "2018-01-14T00:00:00",
          "2018-02-14T00:00:00",
          "2018-03-14T00:00:00",
          "2018-04-14T00:00:00",
          "2018-05-14T00:00:00",
          "2018-06-14T00:00:00",
          "2018-07-14T00:00:00",
          "2018-08-14T00:00:00",
          "2018-09-14T00:00:00",
          "2018-10-14T00:00:00",
          "2018-11-14T00:00:00",
          "2018-12-14T00:00:00",
          "2019-01-14T00:00:00",
          "2019-02-14T00:00:00",
          "2019-03-14T00:00:00",
          "2019-04-14T00:00:00",
          "2019-05-14T00:00:00",
          "2019-06-14T00:00:00",
          "2019-07-14T00:00:00",
          "2019-08-14T00:00:00",
          "2019-09-14T00:00:00",
          "2019-10-14T00:00:00",
          "2019-11-14T00:00:00",
          "2019-12-14T00:00:00",
          "2020-01-14T00:00:00",
          "2020-02-14T00:00:00",
          "2020-03-14T00:00:00",
          "2020-04-14T00:00:00",
          "2020-05-14T00:00:00",
          "2020-06-14T00:00:00",
          "2020-07-14T00:00:00",
          "2020-08-14T00:00:00",
          "2020-09-14T00:00:00",
          "2020-10-14T00:00:00",
          "2020-11-14T00:00:00",
          "2020-12-14T00:00:00"
         ],
         "xaxis": "x",
         "y": [
          88.71,
          91.72,
          94.53,
          107.52,
          105.44,
          106.3,
          106.12,
          108.97,
          108.17,
          110.94,
          114.3,
          110.98,
          107.9,
          105.29,
          105.12,
          108.8,
          108.44,
          105.51,
          97.5,
          97.09,
          101.07,
          106.11,
          105.85,
          105.79,
          103.99,
          106.2,
          107.37,
          106.44,
          101.06,
          99.16,
          102.86,
          104.44,
          105.55,
          104.47,
          103.25,
          104.52,
          104.73,
          105.8,
          104.87,
          103.82,
          104.71,
          104.81,
          104.67,
          102.98,
          102.36,
          100.67,
          94.52,
          90.85,
          75.52,
          76.2,
          77.48,
          79.34,
          83.31,
          84.56,
          83.35,
          79.99,
          82.43,
          79.66,
          78.51,
          76.7,
          67.88,
          65.7,
          66.23,
          70.37,
          73.71,
          84.51,
          82.46,
          82.12,
          82.12,
          82.17,
          87.22,
          84.23,
          89.26,
          90.44,
          88.62,
          88.05,
          86.89,
          84.46,
          85.86,
          86.86,
          88.71,
          92.41,
          92.44,
          94.82,
          96.96,
          97.86,
          97.86,
          98.64,
          103.6,
          103.25,
          102.74,
          108.12,
          109.72,
          112.83,
          112.28,
          102.24,
          95.96,
          96.61,
          102.13,
          104.37,
          104.76,
          103.88,
          100.6,
          103.04,
          101.96,
          104.67604867637792,
          101.78,
          102.32,
          104.45,
          101.65,
          97.5639721087484,
          78.3672667845513,
          74.5713001559297,
          91.87143024710217,
          94.63,
          94.51,
          92.91,
          90.7,
          91.82
         ],
         "yaxis": "y"
        },
        {
         "hovertemplate": "variable=DPK<br>Date=%{x}<br>value=%{y}<extra></extra>",
         "legendgroup": "DPK",
         "line": {
          "color": "#00cc96",
          "dash": "solid"
         },
         "marker": {
          "symbol": "circle"
         },
         "mode": "lines",
         "name": "DPK",
         "orientation": "v",
         "showlegend": true,
         "type": "scatter",
         "x": [
          "2011-01-14T00:00:00",
          "2011-02-14T00:00:00",
          "2011-03-14T00:00:00",
          "2011-04-14T00:00:00",
          "2011-05-14T00:00:00",
          "2011-06-14T00:00:00",
          "2011-07-14T00:00:00",
          "2011-08-14T00:00:00",
          "2011-09-14T00:00:00",
          "2011-10-14T00:00:00",
          "2011-11-14T00:00:00",
          "2011-12-14T00:00:00",
          "2012-01-14T00:00:00",
          "2012-02-14T00:00:00",
          "2012-03-14T00:00:00",
          "2012-04-14T00:00:00",
          "2012-05-14T00:00:00",
          "2012-06-14T00:00:00",
          "2012-07-14T00:00:00",
          "2012-08-14T00:00:00",
          "2012-09-14T00:00:00",
          "2012-10-14T00:00:00",
          "2012-11-14T00:00:00",
          "2012-12-14T00:00:00",
          "2013-01-14T00:00:00",
          "2013-02-14T00:00:00",
          "2013-03-14T00:00:00",
          "2013-04-14T00:00:00",
          "2013-05-14T00:00:00",
          "2013-06-14T00:00:00",
          "2013-07-14T00:00:00",
          "2013-08-14T00:00:00",
          "2013-09-14T00:00:00",
          "2013-10-14T00:00:00",
          "2013-11-14T00:00:00",
          "2013-12-14T00:00:00",
          "2014-01-14T00:00:00",
          "2014-02-14T00:00:00",
          "2014-03-14T00:00:00",
          "2014-04-14T00:00:00",
          "2014-05-14T00:00:00",
          "2014-06-14T00:00:00",
          "2014-07-14T00:00:00",
          "2014-08-14T00:00:00",
          "2014-09-14T00:00:00",
          "2014-10-14T00:00:00",
          "2014-11-14T00:00:00",
          "2014-12-14T00:00:00",
          "2015-02-14T00:00:00",
          "2015-03-14T00:00:00",
          "2015-04-14T00:00:00",
          "2015-05-14T00:00:00",
          "2015-06-14T00:00:00",
          "2015-07-14T00:00:00",
          "2015-08-14T00:00:00",
          "2015-09-14T00:00:00",
          "2015-10-14T00:00:00",
          "2015-11-14T00:00:00",
          "2015-12-14T00:00:00",
          "2016-01-14T00:00:00",
          "2016-02-14T00:00:00",
          "2016-03-14T00:00:00",
          "2016-04-14T00:00:00",
          "2016-05-14T00:00:00",
          "2016-06-14T00:00:00",
          "2016-07-14T00:00:00",
          "2016-08-14T00:00:00",
          "2016-09-14T00:00:00",
          "2016-10-14T00:00:00",
          "2016-11-14T00:00:00",
          "2016-12-14T00:00:00",
          "2017-01-14T00:00:00",
          "2017-02-14T00:00:00",
          "2017-03-14T00:00:00",
          "2017-04-14T00:00:00",
          "2017-05-14T00:00:00",
          "2017-06-14T00:00:00",
          "2017-07-14T00:00:00",
          "2017-08-14T00:00:00",
          "2017-09-14T00:00:00",
          "2017-10-14T00:00:00",
          "2017-11-14T00:00:00",
          "2017-12-14T00:00:00",
          "2018-01-14T00:00:00",
          "2018-02-14T00:00:00",
          "2018-03-14T00:00:00",
          "2018-04-14T00:00:00",
          "2018-05-14T00:00:00",
          "2018-06-14T00:00:00",
          "2018-07-14T00:00:00",
          "2018-08-14T00:00:00",
          "2018-09-14T00:00:00",
          "2018-10-14T00:00:00",
          "2018-11-14T00:00:00",
          "2018-12-14T00:00:00",
          "2019-01-14T00:00:00",
          "2019-02-14T00:00:00",
          "2019-03-14T00:00:00",
          "2019-04-14T00:00:00",
          "2019-05-14T00:00:00",
          "2019-06-14T00:00:00",
          "2019-07-14T00:00:00",
          "2019-08-14T00:00:00",
          "2019-09-14T00:00:00",
          "2019-10-14T00:00:00",
          "2019-11-14T00:00:00",
          "2019-12-14T00:00:00",
          "2020-01-14T00:00:00",
          "2020-02-14T00:00:00",
          "2020-03-14T00:00:00",
          "2020-04-14T00:00:00",
          "2020-05-14T00:00:00",
          "2020-06-14T00:00:00",
          "2020-07-14T00:00:00",
          "2020-08-14T00:00:00",
          "2020-09-14T00:00:00",
          "2020-10-14T00:00:00",
          "2020-11-14T00:00:00",
          "2020-12-14T00:00:00"
         ],
         "xaxis": "x",
         "y": [
          77.15,
          79.52,
          83.97,
          90.91,
          88.73,
          85.71,
          86.16,
          88.96,
          88.29,
          89.95,
          94.87,
          90.74,
          87.11,
          83.74,
          84.13,
          86.28,
          87,
          83.2,
          74.4,
          73.97,
          79.65,
          86.01,
          84.87,
          86.44,
          83.86,
          85.93,
          88.54,
          83.83,
          79.46,
          81.52,
          79.49,
          83.93,
          85.56,
          85.01,
          82.79,
          83.07,
          85.07,
          83.07,
          83.91,
          83.16,
          82.81,
          83.13,
          84.12,
          83.05,
          81.63,
          80.88,
          76.31,
          71.37,
          52.4,
          55.75,
          57.21,
          59.24,
          61.78,
          62.74,
          57.98,
          52.55,
          56.04,
          54.81,
          53.27,
          46.13,
          39.62,
          42.15,
          43.96,
          46.98,
          58.04,
          62.48,
          59.1,
          58.71,
          58.71,
          62.16,
          63.56,
          63.44,
          67.19,
          67.96,
          64.38,
          65.28,
          65.05,
          62.56,
          63.42,
          64.36,
          66.18,
          71.23,
          71.42,
          74.78,
          76.75,
          77.45,
          76.72,
          78.22,
          84.1,
          85.73,
          84.95,
          108.41,
          108.84,
          111.83,
          105.22,
          101.7,
          96.5,
          99.46,
          102.22,
          104.62,
          104.28,
          101.97,
          103.95,
          100.64,
          101.08,
          104.12783741332574,
          102.31,
          103.95,
          102.69,
          95.46,
          77.28227861691889,
          79.77064661877823,
          62.46318933892519,
          65.4476580400483,
          83.65,
          83.15,
          83.73,
          81.63,
          83.56
         ],
         "yaxis": "y"
        }
       ],
       "layout": {
        "legend": {
         "title": {
          "text": "variable"
         },
         "tracegroupgap": 0
        },
        "margin": {
         "t": 60
        },
        "template": {
         "data": {
          "bar": [
           {
            "error_x": {
             "color": "#2a3f5f"
            },
            "error_y": {
             "color": "#2a3f5f"
            },
            "marker": {
             "line": {
              "color": "#E5ECF6",
              "width": 0.5
             },
             "pattern": {
              "fillmode": "overlay",
              "size": 10,
              "solidity": 0.2
             }
            },
            "type": "bar"
           }
          ],
          "barpolar": [
           {
            "marker": {
             "line": {
              "color": "#E5ECF6",
              "width": 0.5
             },
             "pattern": {
              "fillmode": "overlay",
              "size": 10,
              "solidity": 0.2
             }
            },
            "type": "barpolar"
           }
          ],
          "carpet": [
           {
            "aaxis": {
             "endlinecolor": "#2a3f5f",
             "gridcolor": "white",
             "linecolor": "white",
             "minorgridcolor": "white",
             "startlinecolor": "#2a3f5f"
            },
            "baxis": {
             "endlinecolor": "#2a3f5f",
             "gridcolor": "white",
             "linecolor": "white",
             "minorgridcolor": "white",
             "startlinecolor": "#2a3f5f"
            },
            "type": "carpet"
           }
          ],
          "choropleth": [
           {
            "colorbar": {
             "outlinewidth": 0,
             "ticks": ""
            },
            "type": "choropleth"
           }
          ],
          "contour": [
           {
            "colorbar": {
             "outlinewidth": 0,
             "ticks": ""
            },
            "colorscale": [
             [
              0,
              "#0d0887"
             ],
             [
              0.1111111111111111,
              "#46039f"
             ],
             [
              0.2222222222222222,
              "#7201a8"
             ],
             [
              0.3333333333333333,
              "#9c179e"
             ],
             [
              0.4444444444444444,
              "#bd3786"
             ],
             [
              0.5555555555555556,
              "#d8576b"
             ],
             [
              0.6666666666666666,
              "#ed7953"
             ],
             [
              0.7777777777777778,
              "#fb9f3a"
             ],
             [
              0.8888888888888888,
              "#fdca26"
             ],
             [
              1,
              "#f0f921"
             ]
            ],
            "type": "contour"
           }
          ],
          "contourcarpet": [
           {
            "colorbar": {
             "outlinewidth": 0,
             "ticks": ""
            },
            "type": "contourcarpet"
           }
          ],
          "heatmap": [
           {
            "colorbar": {
             "outlinewidth": 0,
             "ticks": ""
            },
            "colorscale": [
             [
              0,
              "#0d0887"
             ],
             [
              0.1111111111111111,
              "#46039f"
             ],
             [
              0.2222222222222222,
              "#7201a8"
             ],
             [
              0.3333333333333333,
              "#9c179e"
             ],
             [
              0.4444444444444444,
              "#bd3786"
             ],
             [
              0.5555555555555556,
              "#d8576b"
             ],
             [
              0.6666666666666666,
              "#ed7953"
             ],
             [
              0.7777777777777778,
              "#fb9f3a"
             ],
             [
              0.8888888888888888,
              "#fdca26"
             ],
             [
              1,
              "#f0f921"
             ]
            ],
            "type": "heatmap"
           }
          ],
          "heatmapgl": [
           {
            "colorbar": {
             "outlinewidth": 0,
             "ticks": ""
            },
            "colorscale": [
             [
              0,
              "#0d0887"
             ],
             [
              0.1111111111111111,
              "#46039f"
             ],
             [
              0.2222222222222222,
              "#7201a8"
             ],
             [
              0.3333333333333333,
              "#9c179e"
             ],
             [
              0.4444444444444444,
              "#bd3786"
             ],
             [
              0.5555555555555556,
              "#d8576b"
             ],
             [
              0.6666666666666666,
              "#ed7953"
             ],
             [
              0.7777777777777778,
              "#fb9f3a"
             ],
             [
              0.8888888888888888,
              "#fdca26"
             ],
             [
              1,
              "#f0f921"
             ]
            ],
            "type": "heatmapgl"
           }
          ],
          "histogram": [
           {
            "marker": {
             "pattern": {
              "fillmode": "overlay",
              "size": 10,
              "solidity": 0.2
             }
            },
            "type": "histogram"
           }
          ],
          "histogram2d": [
           {
            "colorbar": {
             "outlinewidth": 0,
             "ticks": ""
            },
            "colorscale": [
             [
              0,
              "#0d0887"
             ],
             [
              0.1111111111111111,
              "#46039f"
             ],
             [
              0.2222222222222222,
              "#7201a8"
             ],
             [
              0.3333333333333333,
              "#9c179e"
             ],
             [
              0.4444444444444444,
              "#bd3786"
             ],
             [
              0.5555555555555556,
              "#d8576b"
             ],
             [
              0.6666666666666666,
              "#ed7953"
             ],
             [
              0.7777777777777778,
              "#fb9f3a"
             ],
             [
              0.8888888888888888,
              "#fdca26"
             ],
             [
              1,
              "#f0f921"
             ]
            ],
            "type": "histogram2d"
           }
          ],
          "histogram2dcontour": [
           {
            "colorbar": {
             "outlinewidth": 0,
             "ticks": ""
            },
            "colorscale": [
             [
              0,
              "#0d0887"
             ],
             [
              0.1111111111111111,
              "#46039f"
             ],
             [
              0.2222222222222222,
              "#7201a8"
             ],
             [
              0.3333333333333333,
              "#9c179e"
             ],
             [
              0.4444444444444444,
              "#bd3786"
             ],
             [
              0.5555555555555556,
              "#d8576b"
             ],
             [
              0.6666666666666666,
              "#ed7953"
             ],
             [
              0.7777777777777778,
              "#fb9f3a"
             ],
             [
              0.8888888888888888,
              "#fdca26"
             ],
             [
              1,
              "#f0f921"
             ]
            ],
            "type": "histogram2dcontour"
           }
          ],
          "mesh3d": [
           {
            "colorbar": {
             "outlinewidth": 0,
             "ticks": ""
            },
            "type": "mesh3d"
           }
          ],
          "parcoords": [
           {
            "line": {
             "colorbar": {
              "outlinewidth": 0,
              "ticks": ""
             }
            },
            "type": "parcoords"
           }
          ],
          "pie": [
           {
            "automargin": true,
            "type": "pie"
           }
          ],
          "scatter": [
           {
            "fillpattern": {
             "fillmode": "overlay",
             "size": 10,
             "solidity": 0.2
            },
            "type": "scatter"
           }
          ],
          "scatter3d": [
           {
            "line": {
             "colorbar": {
              "outlinewidth": 0,
              "ticks": ""
             }
            },
            "marker": {
             "colorbar": {
              "outlinewidth": 0,
              "ticks": ""
             }
            },
            "type": "scatter3d"
           }
          ],
          "scattercarpet": [
           {
            "marker": {
             "colorbar": {
              "outlinewidth": 0,
              "ticks": ""
             }
            },
            "type": "scattercarpet"
           }
          ],
          "scattergeo": [
           {
            "marker": {
             "colorbar": {
              "outlinewidth": 0,
              "ticks": ""
             }
            },
            "type": "scattergeo"
           }
          ],
          "scattergl": [
           {
            "marker": {
             "colorbar": {
              "outlinewidth": 0,
              "ticks": ""
             }
            },
            "type": "scattergl"
           }
          ],
          "scattermapbox": [
           {
            "marker": {
             "colorbar": {
              "outlinewidth": 0,
              "ticks": ""
             }
            },
            "type": "scattermapbox"
           }
          ],
          "scatterpolar": [
           {
            "marker": {
             "colorbar": {
              "outlinewidth": 0,
              "ticks": ""
             }
            },
            "type": "scatterpolar"
           }
          ],
          "scatterpolargl": [
           {
            "marker": {
             "colorbar": {
              "outlinewidth": 0,
              "ticks": ""
             }
            },
            "type": "scatterpolargl"
           }
          ],
          "scatterternary": [
           {
            "marker": {
             "colorbar": {
              "outlinewidth": 0,
              "ticks": ""
             }
            },
            "type": "scatterternary"
           }
          ],
          "surface": [
           {
            "colorbar": {
             "outlinewidth": 0,
             "ticks": ""
            },
            "colorscale": [
             [
              0,
              "#0d0887"
             ],
             [
              0.1111111111111111,
              "#46039f"
             ],
             [
              0.2222222222222222,
              "#7201a8"
             ],
             [
              0.3333333333333333,
              "#9c179e"
             ],
             [
              0.4444444444444444,
              "#bd3786"
             ],
             [
              0.5555555555555556,
              "#d8576b"
             ],
             [
              0.6666666666666666,
              "#ed7953"
             ],
             [
              0.7777777777777778,
              "#fb9f3a"
             ],
             [
              0.8888888888888888,
              "#fdca26"
             ],
             [
              1,
              "#f0f921"
             ]
            ],
            "type": "surface"
           }
          ],
          "table": [
           {
            "cells": {
             "fill": {
              "color": "#EBF0F8"
             },
             "line": {
              "color": "white"
             }
            },
            "header": {
             "fill": {
              "color": "#C8D4E3"
             },
             "line": {
              "color": "white"
             }
            },
            "type": "table"
           }
          ]
         },
         "layout": {
          "annotationdefaults": {
           "arrowcolor": "#2a3f5f",
           "arrowhead": 0,
           "arrowwidth": 1
          },
          "autotypenumbers": "strict",
          "coloraxis": {
           "colorbar": {
            "outlinewidth": 0,
            "ticks": ""
           }
          },
          "colorscale": {
           "diverging": [
            [
             0,
             "#8e0152"
            ],
            [
             0.1,
             "#c51b7d"
            ],
            [
             0.2,
             "#de77ae"
            ],
            [
             0.3,
             "#f1b6da"
            ],
            [
             0.4,
             "#fde0ef"
            ],
            [
             0.5,
             "#f7f7f7"
            ],
            [
             0.6,
             "#e6f5d0"
            ],
            [
             0.7,
             "#b8e186"
            ],
            [
             0.8,
             "#7fbc41"
            ],
            [
             0.9,
             "#4d9221"
            ],
            [
             1,
             "#276419"
            ]
           ],
           "sequential": [
            [
             0,
             "#0d0887"
            ],
            [
             0.1111111111111111,
             "#46039f"
            ],
            [
             0.2222222222222222,
             "#7201a8"
            ],
            [
             0.3333333333333333,
             "#9c179e"
            ],
            [
             0.4444444444444444,
             "#bd3786"
            ],
            [
             0.5555555555555556,
             "#d8576b"
            ],
            [
             0.6666666666666666,
             "#ed7953"
            ],
            [
             0.7777777777777778,
             "#fb9f3a"
            ],
            [
             0.8888888888888888,
             "#fdca26"
            ],
            [
             1,
             "#f0f921"
            ]
           ],
           "sequentialminus": [
            [
             0,
             "#0d0887"
            ],
            [
             0.1111111111111111,
             "#46039f"
            ],
            [
             0.2222222222222222,
             "#7201a8"
            ],
            [
             0.3333333333333333,
             "#9c179e"
            ],
            [
             0.4444444444444444,
             "#bd3786"
            ],
            [
             0.5555555555555556,
             "#d8576b"
            ],
            [
             0.6666666666666666,
             "#ed7953"
            ],
            [
             0.7777777777777778,
             "#fb9f3a"
            ],
            [
             0.8888888888888888,
             "#fdca26"
            ],
            [
             1,
             "#f0f921"
            ]
           ]
          },
          "colorway": [
           "#636efa",
           "#EF553B",
           "#00cc96",
           "#ab63fa",
           "#FFA15A",
           "#19d3f3",
           "#FF6692",
           "#B6E880",
           "#FF97FF",
           "#FECB52"
          ],
          "font": {
           "color": "#2a3f5f"
          },
          "geo": {
           "bgcolor": "white",
           "lakecolor": "white",
           "landcolor": "#E5ECF6",
           "showlakes": true,
           "showland": true,
           "subunitcolor": "white"
          },
          "hoverlabel": {
           "align": "left"
          },
          "hovermode": "closest",
          "mapbox": {
           "style": "light"
          },
          "paper_bgcolor": "white",
          "plot_bgcolor": "#E5ECF6",
          "polar": {
           "angularaxis": {
            "gridcolor": "white",
            "linecolor": "white",
            "ticks": ""
           },
           "bgcolor": "#E5ECF6",
           "radialaxis": {
            "gridcolor": "white",
            "linecolor": "white",
            "ticks": ""
           }
          },
          "scene": {
           "xaxis": {
            "backgroundcolor": "#E5ECF6",
            "gridcolor": "white",
            "gridwidth": 2,
            "linecolor": "white",
            "showbackground": true,
            "ticks": "",
            "zerolinecolor": "white"
           },
           "yaxis": {
            "backgroundcolor": "#E5ECF6",
            "gridcolor": "white",
            "gridwidth": 2,
            "linecolor": "white",
            "showbackground": true,
            "ticks": "",
            "zerolinecolor": "white"
           },
           "zaxis": {
            "backgroundcolor": "#E5ECF6",
            "gridcolor": "white",
            "gridwidth": 2,
            "linecolor": "white",
            "showbackground": true,
            "ticks": "",
            "zerolinecolor": "white"
           }
          },
          "shapedefaults": {
           "line": {
            "color": "#2a3f5f"
           }
          },
          "ternary": {
           "aaxis": {
            "gridcolor": "white",
            "linecolor": "white",
            "ticks": ""
           },
           "baxis": {
            "gridcolor": "white",
            "linecolor": "white",
            "ticks": ""
           },
           "bgcolor": "#E5ECF6",
           "caxis": {
            "gridcolor": "white",
            "linecolor": "white",
            "ticks": ""
           }
          },
          "title": {
           "x": 0.05
          },
          "xaxis": {
           "automargin": true,
           "gridcolor": "white",
           "linecolor": "white",
           "ticks": "",
           "title": {
            "standoff": 15
           },
           "zerolinecolor": "white",
           "zerolinewidth": 2
          },
          "yaxis": {
           "automargin": true,
           "gridcolor": "white",
           "linecolor": "white",
           "ticks": "",
           "title": {
            "standoff": 15
           },
           "zerolinecolor": "white",
           "zerolinewidth": 2
          }
         }
        },
        "xaxis": {
         "anchor": "y",
         "domain": [
          0,
          1
         ],
         "title": {
          "text": "Date"
         }
        },
        "yaxis": {
         "anchor": "x",
         "domain": [
          0,
          1
         ],
         "title": {
          "text": "value"
         }
        }
       }
      }
     },
     "metadata": {},
     "output_type": "display_data"
    }
   ],
   "source": [
    "px.line(y,x = 'Date',y = ['PMS',\"AGO\",\"DPK\"])"
   ]
  },
  {
   "cell_type": "code",
   "execution_count": 48,
   "metadata": {},
   "outputs": [
    {
     "name": "stderr",
     "output_type": "stream",
     "text": [
      "c:\\Users\\kkama\\AppData\\Local\\anaconda3\\Lib\\site-packages\\_plotly_utils\\basevalidators.py:106: FutureWarning:\n",
      "\n",
      "The behavior of DatetimeProperties.to_pydatetime is deprecated, in a future version this will return a Series containing python datetime objects instead of an ndarray. To retain the old behavior, call `np.array` on the result\n",
      "\n"
     ]
    },
    {
     "data": {
      "application/vnd.plotly.v1+json": {
       "config": {
        "plotlyServerURL": "https://plot.ly"
       },
       "data": [
        {
         "hovertemplate": "variable=PMS<br>Date=%{x}<br>value=%{y}<extra></extra>",
         "legendgroup": "PMS",
         "line": {
          "color": "#00AE9F",
          "dash": "solid",
          "width": 3
         },
         "marker": {
          "symbol": "circle"
         },
         "mode": "lines",
         "name": "PMS",
         "orientation": "v",
         "showlegend": true,
         "type": "scatter",
         "x": [
          "2011-01-14T00:00:00",
          "2011-02-14T00:00:00",
          "2011-03-14T00:00:00",
          "2011-04-14T00:00:00",
          "2011-05-14T00:00:00",
          "2011-06-14T00:00:00",
          "2011-07-14T00:00:00",
          "2011-08-14T00:00:00",
          "2011-09-14T00:00:00",
          "2011-10-14T00:00:00",
          "2011-11-14T00:00:00",
          "2011-12-14T00:00:00",
          "2012-01-14T00:00:00",
          "2012-02-14T00:00:00",
          "2012-03-14T00:00:00",
          "2012-04-14T00:00:00",
          "2012-05-14T00:00:00",
          "2012-06-14T00:00:00",
          "2012-07-14T00:00:00",
          "2012-08-14T00:00:00",
          "2012-09-14T00:00:00",
          "2012-10-14T00:00:00",
          "2012-11-14T00:00:00",
          "2012-12-14T00:00:00",
          "2013-01-14T00:00:00",
          "2013-02-14T00:00:00",
          "2013-03-14T00:00:00",
          "2013-04-14T00:00:00",
          "2013-05-14T00:00:00",
          "2013-06-14T00:00:00",
          "2013-07-14T00:00:00",
          "2013-08-14T00:00:00",
          "2013-09-14T00:00:00",
          "2013-10-14T00:00:00",
          "2013-11-14T00:00:00",
          "2013-12-14T00:00:00",
          "2014-01-14T00:00:00",
          "2014-02-14T00:00:00",
          "2014-03-14T00:00:00",
          "2014-04-14T00:00:00",
          "2014-05-14T00:00:00",
          "2014-06-14T00:00:00",
          "2014-07-14T00:00:00",
          "2014-08-14T00:00:00",
          "2014-09-14T00:00:00",
          "2014-10-14T00:00:00",
          "2014-11-14T00:00:00",
          "2014-12-14T00:00:00",
          "2015-02-14T00:00:00",
          "2015-03-14T00:00:00",
          "2015-04-14T00:00:00",
          "2015-05-14T00:00:00",
          "2015-06-14T00:00:00",
          "2015-07-14T00:00:00",
          "2015-08-14T00:00:00",
          "2015-09-14T00:00:00",
          "2015-10-14T00:00:00",
          "2015-11-14T00:00:00",
          "2015-12-14T00:00:00",
          "2016-01-14T00:00:00",
          "2016-02-14T00:00:00",
          "2016-03-14T00:00:00",
          "2016-04-14T00:00:00",
          "2016-05-14T00:00:00",
          "2016-06-14T00:00:00",
          "2016-07-14T00:00:00",
          "2016-08-14T00:00:00",
          "2016-09-14T00:00:00",
          "2016-10-14T00:00:00",
          "2016-11-14T00:00:00",
          "2016-12-14T00:00:00",
          "2017-01-14T00:00:00",
          "2017-02-14T00:00:00",
          "2017-03-14T00:00:00",
          "2017-04-14T00:00:00",
          "2017-05-14T00:00:00",
          "2017-06-14T00:00:00",
          "2017-07-14T00:00:00",
          "2017-08-14T00:00:00",
          "2017-09-14T00:00:00",
          "2017-10-14T00:00:00",
          "2017-11-14T00:00:00",
          "2017-12-14T00:00:00",
          "2018-01-14T00:00:00",
          "2018-02-14T00:00:00",
          "2018-03-14T00:00:00",
          "2018-04-14T00:00:00",
          "2018-05-14T00:00:00",
          "2018-06-14T00:00:00",
          "2018-07-14T00:00:00",
          "2018-08-14T00:00:00",
          "2018-09-14T00:00:00",
          "2018-10-14T00:00:00",
          "2018-11-14T00:00:00",
          "2018-12-14T00:00:00",
          "2019-01-14T00:00:00",
          "2019-02-14T00:00:00",
          "2019-03-14T00:00:00",
          "2019-04-14T00:00:00",
          "2019-05-14T00:00:00",
          "2019-06-14T00:00:00",
          "2019-07-14T00:00:00",
          "2019-08-14T00:00:00",
          "2019-09-14T00:00:00",
          "2019-10-14T00:00:00",
          "2019-11-14T00:00:00",
          "2019-12-14T00:00:00",
          "2020-01-14T00:00:00",
          "2020-02-14T00:00:00",
          "2020-03-14T00:00:00",
          "2020-04-14T00:00:00",
          "2020-05-14T00:00:00",
          "2020-06-14T00:00:00",
          "2020-07-14T00:00:00",
          "2020-08-14T00:00:00",
          "2020-09-14T00:00:00",
          "2020-10-14T00:00:00",
          "2020-11-14T00:00:00",
          "2020-12-14T00:00:00"
         ],
         "xaxis": "x",
         "y": [
          95.67,
          98.08,
          102.44,
          111.17,
          111.17,
          114.93,
          115.39,
          117.22,
          117.75,
          120.5,
          124.13,
          119.06,
          111.95,
          111.32,
          111.69,
          118.5,
          121.13,
          117.67,
          108.46,
          106.48,
          108.95,
          115.26,
          113.68,
          112.61,
          111.6,
          113.57,
          117.69,
          117.65,
          113.24,
          108.18,
          109.52,
          112.26,
          113.88,
          112.27,
          108.87,
          109.28,
          110.59,
          111.55,
          113.61,
          114.16,
          114.73,
          114.62,
          115.86,
          116.62,
          111.64,
          110.89,
          106.8,
          102.01,
          84.71,
          89.46,
          89.35,
          92.89,
          97.28,
          98.59,
          102.65,
          102.65,
          93.29,
          90.46,
          90.06,
          88.64,
          86.5,
          85.58,
          80.71,
          84.25,
          86.17,
          95.13,
          91.39,
          91.56,
          91.56,
          94.94,
          94.2,
          96.01,
          100.27,
          101.05,
          98,
          99.59,
          98.73,
          97.1,
          96.08,
          98.3,
          101.67,
          102.7,
          104.17,
          106.3,
          107.92,
          107.46,
          106.83,
          107.17,
          108.81,
          112.2,
          113.73,
          116.79,
          115.73,
          118.11,
          113.54,
          104.21,
          100.09,
          101.35,
          106.6,
          112.03,
          115.1,
          115.39,
          112.53,
          112.81,
          108.05,
          110.65435987886988,
          109.5,
          110.2,
          112.87,
          110.87,
          92.86928053699759,
          83.33054196174203,
          89.10331627341138,
          100.47896451657651,
          103.95,
          105.43,
          107.27,
          105.85,
          106.82
         ],
         "yaxis": "y"
        },
        {
         "hovertemplate": "variable=AGO<br>Date=%{x}<br>value=%{y}<extra></extra>",
         "legendgroup": "AGO",
         "line": {
          "color": "#E4A307",
          "dash": "solid",
          "width": 3
         },
         "marker": {
          "symbol": "circle"
         },
         "mode": "lines",
         "name": "AGO",
         "orientation": "v",
         "showlegend": true,
         "type": "scatter",
         "x": [
          "2011-01-14T00:00:00",
          "2011-02-14T00:00:00",
          "2011-03-14T00:00:00",
          "2011-04-14T00:00:00",
          "2011-05-14T00:00:00",
          "2011-06-14T00:00:00",
          "2011-07-14T00:00:00",
          "2011-08-14T00:00:00",
          "2011-09-14T00:00:00",
          "2011-10-14T00:00:00",
          "2011-11-14T00:00:00",
          "2011-12-14T00:00:00",
          "2012-01-14T00:00:00",
          "2012-02-14T00:00:00",
          "2012-03-14T00:00:00",
          "2012-04-14T00:00:00",
          "2012-05-14T00:00:00",
          "2012-06-14T00:00:00",
          "2012-07-14T00:00:00",
          "2012-08-14T00:00:00",
          "2012-09-14T00:00:00",
          "2012-10-14T00:00:00",
          "2012-11-14T00:00:00",
          "2012-12-14T00:00:00",
          "2013-01-14T00:00:00",
          "2013-02-14T00:00:00",
          "2013-03-14T00:00:00",
          "2013-04-14T00:00:00",
          "2013-05-14T00:00:00",
          "2013-06-14T00:00:00",
          "2013-07-14T00:00:00",
          "2013-08-14T00:00:00",
          "2013-09-14T00:00:00",
          "2013-10-14T00:00:00",
          "2013-11-14T00:00:00",
          "2013-12-14T00:00:00",
          "2014-01-14T00:00:00",
          "2014-02-14T00:00:00",
          "2014-03-14T00:00:00",
          "2014-04-14T00:00:00",
          "2014-05-14T00:00:00",
          "2014-06-14T00:00:00",
          "2014-07-14T00:00:00",
          "2014-08-14T00:00:00",
          "2014-09-14T00:00:00",
          "2014-10-14T00:00:00",
          "2014-11-14T00:00:00",
          "2014-12-14T00:00:00",
          "2015-02-14T00:00:00",
          "2015-03-14T00:00:00",
          "2015-04-14T00:00:00",
          "2015-05-14T00:00:00",
          "2015-06-14T00:00:00",
          "2015-07-14T00:00:00",
          "2015-08-14T00:00:00",
          "2015-09-14T00:00:00",
          "2015-10-14T00:00:00",
          "2015-11-14T00:00:00",
          "2015-12-14T00:00:00",
          "2016-01-14T00:00:00",
          "2016-02-14T00:00:00",
          "2016-03-14T00:00:00",
          "2016-04-14T00:00:00",
          "2016-05-14T00:00:00",
          "2016-06-14T00:00:00",
          "2016-07-14T00:00:00",
          "2016-08-14T00:00:00",
          "2016-09-14T00:00:00",
          "2016-10-14T00:00:00",
          "2016-11-14T00:00:00",
          "2016-12-14T00:00:00",
          "2017-01-14T00:00:00",
          "2017-02-14T00:00:00",
          "2017-03-14T00:00:00",
          "2017-04-14T00:00:00",
          "2017-05-14T00:00:00",
          "2017-06-14T00:00:00",
          "2017-07-14T00:00:00",
          "2017-08-14T00:00:00",
          "2017-09-14T00:00:00",
          "2017-10-14T00:00:00",
          "2017-11-14T00:00:00",
          "2017-12-14T00:00:00",
          "2018-01-14T00:00:00",
          "2018-02-14T00:00:00",
          "2018-03-14T00:00:00",
          "2018-04-14T00:00:00",
          "2018-05-14T00:00:00",
          "2018-06-14T00:00:00",
          "2018-07-14T00:00:00",
          "2018-08-14T00:00:00",
          "2018-09-14T00:00:00",
          "2018-10-14T00:00:00",
          "2018-11-14T00:00:00",
          "2018-12-14T00:00:00",
          "2019-01-14T00:00:00",
          "2019-02-14T00:00:00",
          "2019-03-14T00:00:00",
          "2019-04-14T00:00:00",
          "2019-05-14T00:00:00",
          "2019-06-14T00:00:00",
          "2019-07-14T00:00:00",
          "2019-08-14T00:00:00",
          "2019-09-14T00:00:00",
          "2019-10-14T00:00:00",
          "2019-11-14T00:00:00",
          "2019-12-14T00:00:00",
          "2020-01-14T00:00:00",
          "2020-02-14T00:00:00",
          "2020-03-14T00:00:00",
          "2020-04-14T00:00:00",
          "2020-05-14T00:00:00",
          "2020-06-14T00:00:00",
          "2020-07-14T00:00:00",
          "2020-08-14T00:00:00",
          "2020-09-14T00:00:00",
          "2020-10-14T00:00:00",
          "2020-11-14T00:00:00",
          "2020-12-14T00:00:00"
         ],
         "xaxis": "x",
         "y": [
          88.71,
          91.72,
          94.53,
          107.52,
          105.44,
          106.3,
          106.12,
          108.97,
          108.17,
          110.94,
          114.3,
          110.98,
          107.9,
          105.29,
          105.12,
          108.8,
          108.44,
          105.51,
          97.5,
          97.09,
          101.07,
          106.11,
          105.85,
          105.79,
          103.99,
          106.2,
          107.37,
          106.44,
          101.06,
          99.16,
          102.86,
          104.44,
          105.55,
          104.47,
          103.25,
          104.52,
          104.73,
          105.8,
          104.87,
          103.82,
          104.71,
          104.81,
          104.67,
          102.98,
          102.36,
          100.67,
          94.52,
          90.85,
          75.52,
          76.2,
          77.48,
          79.34,
          83.31,
          84.56,
          83.35,
          79.99,
          82.43,
          79.66,
          78.51,
          76.7,
          67.88,
          65.7,
          66.23,
          70.37,
          73.71,
          84.51,
          82.46,
          82.12,
          82.12,
          82.17,
          87.22,
          84.23,
          89.26,
          90.44,
          88.62,
          88.05,
          86.89,
          84.46,
          85.86,
          86.86,
          88.71,
          92.41,
          92.44,
          94.82,
          96.96,
          97.86,
          97.86,
          98.64,
          103.6,
          103.25,
          102.74,
          108.12,
          109.72,
          112.83,
          112.28,
          102.24,
          95.96,
          96.61,
          102.13,
          104.37,
          104.76,
          103.88,
          100.6,
          103.04,
          101.96,
          104.67604867637792,
          101.78,
          102.32,
          104.45,
          101.65,
          97.5639721087484,
          78.3672667845513,
          74.5713001559297,
          91.87143024710217,
          94.63,
          94.51,
          92.91,
          90.7,
          91.82
         ],
         "yaxis": "y"
        },
        {
         "hovertemplate": "variable=DPK<br>Date=%{x}<br>value=%{y}<extra></extra>",
         "legendgroup": "DPK",
         "line": {
          "color": "#7D4E24",
          "dash": "solid",
          "width": 3
         },
         "marker": {
          "symbol": "circle"
         },
         "mode": "lines",
         "name": "DPK",
         "orientation": "v",
         "showlegend": true,
         "type": "scatter",
         "x": [
          "2011-01-14T00:00:00",
          "2011-02-14T00:00:00",
          "2011-03-14T00:00:00",
          "2011-04-14T00:00:00",
          "2011-05-14T00:00:00",
          "2011-06-14T00:00:00",
          "2011-07-14T00:00:00",
          "2011-08-14T00:00:00",
          "2011-09-14T00:00:00",
          "2011-10-14T00:00:00",
          "2011-11-14T00:00:00",
          "2011-12-14T00:00:00",
          "2012-01-14T00:00:00",
          "2012-02-14T00:00:00",
          "2012-03-14T00:00:00",
          "2012-04-14T00:00:00",
          "2012-05-14T00:00:00",
          "2012-06-14T00:00:00",
          "2012-07-14T00:00:00",
          "2012-08-14T00:00:00",
          "2012-09-14T00:00:00",
          "2012-10-14T00:00:00",
          "2012-11-14T00:00:00",
          "2012-12-14T00:00:00",
          "2013-01-14T00:00:00",
          "2013-02-14T00:00:00",
          "2013-03-14T00:00:00",
          "2013-04-14T00:00:00",
          "2013-05-14T00:00:00",
          "2013-06-14T00:00:00",
          "2013-07-14T00:00:00",
          "2013-08-14T00:00:00",
          "2013-09-14T00:00:00",
          "2013-10-14T00:00:00",
          "2013-11-14T00:00:00",
          "2013-12-14T00:00:00",
          "2014-01-14T00:00:00",
          "2014-02-14T00:00:00",
          "2014-03-14T00:00:00",
          "2014-04-14T00:00:00",
          "2014-05-14T00:00:00",
          "2014-06-14T00:00:00",
          "2014-07-14T00:00:00",
          "2014-08-14T00:00:00",
          "2014-09-14T00:00:00",
          "2014-10-14T00:00:00",
          "2014-11-14T00:00:00",
          "2014-12-14T00:00:00",
          "2015-02-14T00:00:00",
          "2015-03-14T00:00:00",
          "2015-04-14T00:00:00",
          "2015-05-14T00:00:00",
          "2015-06-14T00:00:00",
          "2015-07-14T00:00:00",
          "2015-08-14T00:00:00",
          "2015-09-14T00:00:00",
          "2015-10-14T00:00:00",
          "2015-11-14T00:00:00",
          "2015-12-14T00:00:00",
          "2016-01-14T00:00:00",
          "2016-02-14T00:00:00",
          "2016-03-14T00:00:00",
          "2016-04-14T00:00:00",
          "2016-05-14T00:00:00",
          "2016-06-14T00:00:00",
          "2016-07-14T00:00:00",
          "2016-08-14T00:00:00",
          "2016-09-14T00:00:00",
          "2016-10-14T00:00:00",
          "2016-11-14T00:00:00",
          "2016-12-14T00:00:00",
          "2017-01-14T00:00:00",
          "2017-02-14T00:00:00",
          "2017-03-14T00:00:00",
          "2017-04-14T00:00:00",
          "2017-05-14T00:00:00",
          "2017-06-14T00:00:00",
          "2017-07-14T00:00:00",
          "2017-08-14T00:00:00",
          "2017-09-14T00:00:00",
          "2017-10-14T00:00:00",
          "2017-11-14T00:00:00",
          "2017-12-14T00:00:00",
          "2018-01-14T00:00:00",
          "2018-02-14T00:00:00",
          "2018-03-14T00:00:00",
          "2018-04-14T00:00:00",
          "2018-05-14T00:00:00",
          "2018-06-14T00:00:00",
          "2018-07-14T00:00:00",
          "2018-08-14T00:00:00",
          "2018-09-14T00:00:00",
          "2018-10-14T00:00:00",
          "2018-11-14T00:00:00",
          "2018-12-14T00:00:00",
          "2019-01-14T00:00:00",
          "2019-02-14T00:00:00",
          "2019-03-14T00:00:00",
          "2019-04-14T00:00:00",
          "2019-05-14T00:00:00",
          "2019-06-14T00:00:00",
          "2019-07-14T00:00:00",
          "2019-08-14T00:00:00",
          "2019-09-14T00:00:00",
          "2019-10-14T00:00:00",
          "2019-11-14T00:00:00",
          "2019-12-14T00:00:00",
          "2020-01-14T00:00:00",
          "2020-02-14T00:00:00",
          "2020-03-14T00:00:00",
          "2020-04-14T00:00:00",
          "2020-05-14T00:00:00",
          "2020-06-14T00:00:00",
          "2020-07-14T00:00:00",
          "2020-08-14T00:00:00",
          "2020-09-14T00:00:00",
          "2020-10-14T00:00:00",
          "2020-11-14T00:00:00",
          "2020-12-14T00:00:00"
         ],
         "xaxis": "x",
         "y": [
          77.15,
          79.52,
          83.97,
          90.91,
          88.73,
          85.71,
          86.16,
          88.96,
          88.29,
          89.95,
          94.87,
          90.74,
          87.11,
          83.74,
          84.13,
          86.28,
          87,
          83.2,
          74.4,
          73.97,
          79.65,
          86.01,
          84.87,
          86.44,
          83.86,
          85.93,
          88.54,
          83.83,
          79.46,
          81.52,
          79.49,
          83.93,
          85.56,
          85.01,
          82.79,
          83.07,
          85.07,
          83.07,
          83.91,
          83.16,
          82.81,
          83.13,
          84.12,
          83.05,
          81.63,
          80.88,
          76.31,
          71.37,
          52.4,
          55.75,
          57.21,
          59.24,
          61.78,
          62.74,
          57.98,
          52.55,
          56.04,
          54.81,
          53.27,
          46.13,
          39.62,
          42.15,
          43.96,
          46.98,
          58.04,
          62.48,
          59.1,
          58.71,
          58.71,
          62.16,
          63.56,
          63.44,
          67.19,
          67.96,
          64.38,
          65.28,
          65.05,
          62.56,
          63.42,
          64.36,
          66.18,
          71.23,
          71.42,
          74.78,
          76.75,
          77.45,
          76.72,
          78.22,
          84.1,
          85.73,
          84.95,
          108.41,
          108.84,
          111.83,
          105.22,
          101.7,
          96.5,
          99.46,
          102.22,
          104.62,
          104.28,
          101.97,
          103.95,
          100.64,
          101.08,
          104.12783741332574,
          102.31,
          103.95,
          102.69,
          95.46,
          77.28227861691889,
          79.77064661877823,
          62.46318933892519,
          65.4476580400483,
          83.65,
          83.15,
          83.73,
          81.63,
          83.56
         ],
         "yaxis": "y"
        }
       ],
       "layout": {
        "legend": {
         "orientation": "h",
         "title": {
          "text": "variable"
         },
         "tracegroupgap": 0,
         "x": 0.5,
         "xanchor": "center",
         "y": -0.3,
         "yanchor": "bottom"
        },
        "template": {
         "data": {
          "scatter": [
           {
            "type": "scatter"
           }
          ]
         }
        },
        "title": {
         "text": "Fluctuations in Oil Prices Across Nairobi (2010-2023)"
        },
        "xaxis": {
         "anchor": "y",
         "domain": [
          0,
          1
         ],
         "title": {
          "text": "Date"
         }
        },
        "yaxis": {
         "anchor": "x",
         "domain": [
          0,
          1
         ],
         "title": {
          "text": "value"
         }
        }
       }
      }
     },
     "metadata": {},
     "output_type": "display_data"
    }
   ],
   "source": [
    "import plotly.express as px\n",
    "\n",
    "# Custom colors for the lines\n",
    "custom_colors = ['#00AE9F', '#E4A307', '#7D4E24']\n",
    "\n",
    "# Create the line plot\n",
    "fig = px.line(\n",
    "    y,\n",
    "    x='Date',\n",
    "    y=['PMS', 'AGO', 'DPK'],\n",
    "    title=\"Fluctuations in Oil Prices Across Nairobi (2010-2023)\",\n",
    "    color_discrete_sequence=custom_colors,\n",
    "    template='none'\n",
    ")\n",
    "\n",
    "# Customize the line width\n",
    "fig.update_traces(line=dict(width=3))\n",
    "\n",
    "# Move the legend to the bottom\n",
    "fig.update_layout(\n",
    "    legend=dict(\n",
    "        orientation=\"h\",\n",
    "        yanchor=\"bottom\",\n",
    "        y=-0.3,\n",
    "        xanchor=\"center\",\n",
    "        x=0.5\n",
    "    )\n",
    ")\n",
    "\n",
    "# Show the plot\n",
    "fig.show()\n",
    "\n"
   ]
  },
  {
   "cell_type": "markdown",
   "metadata": {},
   "source": [
    "# time series modeling"
   ]
  },
  {
   "cell_type": "code",
   "execution_count": 66,
   "metadata": {},
   "outputs": [
    {
     "data": {
      "image/png": "[encoded data removed]",
      "text/plain": [
       "<Figure size 1000x500 with 1 Axes>"
      ]
     },
     "metadata": {},
     "output_type": "display_data"
    }
   ],
   "source": [
    "import pandas as pd\n",
    "import matplotlib.pyplot as plt\n",
    "from statsmodels.tsa.arima.model import ARIMA\n",
    "import numpy as np\n",
    "import warnings;warnings.filterwarnings('ignore')\n",
    "\n",
    "y = df[df['Date'] < pd.to_datetime('01/01/2024')]\n",
    "# Ensure the 'Date' column is the datetime type and set it as the index\n",
    "y = y[y['TOWNS'] == 'NAIROBI']\n",
    "y.set_index('Date', inplace=True)\n",
    "\n",
    "# Filter the data to include only dates before 2020\n",
    "y_train = y[y.index < '2020-01-01']['PMS']\n",
    "\n",
    "# Fit the ARIMA model (you may need to choose appropriate p, d, q values based on AIC/BIC)\n",
    "model = ARIMA(y_train, order=(5, 1, 0))  # Example order (p=5, d=1, q=0)\n",
    "model_fit = model.fit()\n",
    "\n",
    "# Forecast the next year from 2020\n",
    "forecast = model_fit.forecast(steps=12)  # Forecasting 12 months (1 year)\n",
    "\n",
    "# Create a new DataFrame for the predictions\n",
    "forecast_dates = pd.date_range(start='2020-01-01', periods=12, freq='M')\n",
    "forecast_df = pd.DataFrame(forecast.values, index=forecast_dates, columns=['PMS_Predicted'])\n",
    "\n",
    "# Plotting the actual and predicted values\n",
    "plt.figure(figsize=(10, 5))\n",
    "plt.plot(y['PMS'], label='Actual PMS Prices', color='blue')\n",
    "plt.plot(forecast_df, label='Predicted PMS Prices', color='orange', linestyle='--')\n",
    "plt.title('Actual vs Predicted PMS Oil Prices in Nairobi (2020 Forecast)')\n",
    "plt.xlabel('Date')\n",
    "plt.ylabel('PMS Price')\n",
    "plt.legend(loc='upper left')\n",
    "plt.grid(True)\n",
    "plt.show()\n"
   ]
  },
  {
   "cell_type": "code",
   "execution_count": 56,
   "metadata": {},
   "outputs": [
    {
     "data": {
      "text/plain": [
       "DatetimeIndex(['2020-01-31', '2020-02-29', '2020-03-31', '2020-04-30',\n",
       "               '2020-05-31', '2020-06-30', '2020-07-31', '2020-08-31',\n",
       "               '2020-09-30', '2020-10-31', '2020-11-30', '2020-12-31'],\n",
       "              dtype='datetime64[ns]', freq='M')"
      ]
     },
     "execution_count": 56,
     "metadata": {},
     "output_type": "execute_result"
    }
   ],
   "source": [
    "forecast_dates"
   ]
  },
  {
   "cell_type": "code",
   "execution_count": null,
   "metadata": {},
   "outputs": [],
   "source": [
    "print(df.shape)"
   ]
  },
  {
   "cell_type": "code",
   "execution_count": null,
   "metadata": {},
   "outputs": [],
   "source": []
  }
 ],
 "metadata": {
  "kernelspec": {
   "display_name": "Python 3",
   "language": "python",
   "name": "python3"
  },
  "language_info": {
   "codemirror_mode": {
    "name": "ipython",
    "version": 3
   },
   "file_extension": ".py",
   "mimetype": "text/x-python",
   "name": "python",
   "nbconvert_exporter": "python",
   "pygments_lexer": "ipython3",
   "version": "3.12.4"
  }
 },
 "nbformat": 4,
 "nbformat_minor": 2
}
