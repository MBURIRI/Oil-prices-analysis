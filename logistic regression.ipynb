{
 "cells": [
  {
   "cell_type": "markdown",
   "metadata": {},
   "source": [
    "<h1 style=\"color: green;\">LOGISTIC REGRESSION</h1>"
   ]
  },
  {
   "cell_type": "markdown",
   "metadata": {},
   "source": [
    "Logistic regression is a statistical method used for binary classification, which is the process of predicting a binary outcome (0 or 1, yes or no, true or false) based on one or more predictor variables. It's a type of generalized linear model that extends linear regression to cases where the target variable is categorical rather than continuous.\n",
    "\n",
    "Key Concepts in Logistic Regression\n",
    "Sigmoid Function: Logistic regression uses the sigmoid (or logistic) function to map predicted values to probabilities between 0 and 1. The sigmoid function is defined as:\n",
    "𝜎(𝑥)=1/(1+𝑒^-x)\n",
    "\n",
    "Decision Boundary: Once the probabilities are obtained, a threshold (usually 0.5) is applied to decide the class label. For example, if the probability is greater than 0.5, the model might classify the instance as 1 (or \"yes\"), otherwise 0 (or \"no\").\n",
    "\n",
    "Steps to Train a Logistic Regression Model\n",
    "Prepare Data:\n",
    "\n",
    "Ensure the dataset is clean, with relevant features and a binary target.\n",
    "Split the data into training and test sets.\n",
    "Fit the Model:\n",
    "\n",
    "Use maximum likelihood estimation to estimate the parameters (β) that maximize the probability of the observed outcomes.\n",
    "Make Predictions:\n",
    "\n",
    "Compute the probability of the positive class using the sigmoid function.\n",
    "Apply a decision threshold to classify the result.\n",
    "Evaluate the Model:\n",
    "\n",
    "Metrics like accuracy, precision, recall, F1-score, and the Area Under the Receiver Operating Characteristic (ROC-AUC) are commonly used.\n",
    "Regularization (Optional):\n",
    "\n",
    "Regularization (like L1 or L2 regularization) can be added to penalize large coefficients, which helps prevent overfitting.\n",
    "Applications of Logistic Regression\n",
    "Logistic regression is widely used for:\n",
    "\n",
    "Disease prediction (e.g., predicting the likelihood of a medical condition).\n",
    "Customer churn prediction.\n",
    "Spam detection.\n",
    "Credit scoring.\n",
    "​\n"
   ]
  },
  {
   "cell_type": "code",
   "execution_count": 100,
   "metadata": {},
   "outputs": [],
   "source": [
    "# LOADING OF NECESSARY PACKAGES\n",
    "import numpy as np\n",
    "import pandas as pd\n",
    "import matplotlib\n",
    "import matplotlib.pyplot as plt\n",
    "import scipy.stats as stats\n"
   ]
  },
  {
   "cell_type": "code",
   "execution_count": 101,
   "metadata": {},
   "outputs": [
    {
     "data": {
      "text/plain": [
       "[<matplotlib.lines.Line2D at 0x156eba84770>]"
      ]
     },
     "execution_count": 101,
     "metadata": {},
     "output_type": "execute_result"
    },
    {
     "data": {
      "image/png": "[encoded data removed]",
      "text/plain": [
       "<Figure size 900x900 with 1 Axes>"
      ]
     },
     "metadata": {},
     "output_type": "display_data"
    }
   ],
   "source": [
    "plt.figure(figsize=(9,9))\n",
    "def sigmoid(t):\n",
    "    return(1/(1+np.exp(-t)))\n",
    "plot_range=np.arange(-6,6,0.1)\n",
    "y_values=sigmoid(plot_range)\n",
    "\n",
    "#plot curve\n",
    "plt.plot(plot_range,\n",
    "         y_values,\n",
    "         color='green')"
   ]
  },
  {
   "cell_type": "markdown",
   "metadata": {},
   "source": [
    "<h2 style=\"color: green;\">PREDICTING THE NUMBER OF SURVIVORS IN THE TITANIC DISASTER</h2>"
   ]
  },
  {
   "cell_type": "code",
   "execution_count": 102,
   "metadata": {},
   "outputs": [
    {
     "data": {
      "text/html": [
       "<div>\n",
       "<style scoped>\n",
       "    .dataframe tbody tr th:only-of-type {\n",
       "        vertical-align: middle;\n",
       "    }\n",
       "\n",
       "    .dataframe tbody tr th {\n",
       "        vertical-align: top;\n",
       "    }\n",
       "\n",
       "    .dataframe thead th {\n",
       "        text-align: right;\n",
       "    }\n",
       "</style>\n",
       "<table border=\"1\" class=\"dataframe\">\n",
       "  <thead>\n",
       "    <tr style=\"text-align: right;\">\n",
       "      <th></th>\n",
       "      <th>PassengerId</th>\n",
       "      <th>Survived</th>\n",
       "      <th>Pclass</th>\n",
       "      <th>Name</th>\n",
       "      <th>Sex</th>\n",
       "      <th>Age</th>\n",
       "      <th>SibSp</th>\n",
       "      <th>Parch</th>\n",
       "      <th>Ticket</th>\n",
       "      <th>Fare</th>\n",
       "      <th>Cabin</th>\n",
       "      <th>Embarked</th>\n",
       "    </tr>\n",
       "  </thead>\n",
       "  <tbody>\n",
       "    <tr>\n",
       "      <th>0</th>\n",
       "      <td>1</td>\n",
       "      <td>0</td>\n",
       "      <td>3</td>\n",
       "      <td>Braund, Mr. Owen Harris</td>\n",
       "      <td>male</td>\n",
       "      <td>22.0</td>\n",
       "      <td>1</td>\n",
       "      <td>0</td>\n",
       "      <td>A/5 21171</td>\n",
       "      <td>7.2500</td>\n",
       "      <td>NaN</td>\n",
       "      <td>S</td>\n",
       "    </tr>\n",
       "    <tr>\n",
       "      <th>1</th>\n",
       "      <td>2</td>\n",
       "      <td>1</td>\n",
       "      <td>1</td>\n",
       "      <td>Cumings, Mrs. John Bradley (Florence Briggs Th...</td>\n",
       "      <td>female</td>\n",
       "      <td>38.0</td>\n",
       "      <td>1</td>\n",
       "      <td>0</td>\n",
       "      <td>PC 17599</td>\n",
       "      <td>71.2833</td>\n",
       "      <td>C85</td>\n",
       "      <td>C</td>\n",
       "    </tr>\n",
       "    <tr>\n",
       "      <th>2</th>\n",
       "      <td>3</td>\n",
       "      <td>1</td>\n",
       "      <td>3</td>\n",
       "      <td>Heikkinen, Miss. Laina</td>\n",
       "      <td>female</td>\n",
       "      <td>26.0</td>\n",
       "      <td>0</td>\n",
       "      <td>0</td>\n",
       "      <td>STON/O2. 3101282</td>\n",
       "      <td>7.9250</td>\n",
       "      <td>NaN</td>\n",
       "      <td>S</td>\n",
       "    </tr>\n",
       "    <tr>\n",
       "      <th>3</th>\n",
       "      <td>4</td>\n",
       "      <td>1</td>\n",
       "      <td>1</td>\n",
       "      <td>Futrelle, Mrs. Jacques Heath (Lily May Peel)</td>\n",
       "      <td>female</td>\n",
       "      <td>35.0</td>\n",
       "      <td>1</td>\n",
       "      <td>0</td>\n",
       "      <td>113803</td>\n",
       "      <td>53.1000</td>\n",
       "      <td>C123</td>\n",
       "      <td>S</td>\n",
       "    </tr>\n",
       "    <tr>\n",
       "      <th>4</th>\n",
       "      <td>5</td>\n",
       "      <td>0</td>\n",
       "      <td>3</td>\n",
       "      <td>Allen, Mr. William Henry</td>\n",
       "      <td>male</td>\n",
       "      <td>35.0</td>\n",
       "      <td>0</td>\n",
       "      <td>0</td>\n",
       "      <td>373450</td>\n",
       "      <td>8.0500</td>\n",
       "      <td>NaN</td>\n",
       "      <td>S</td>\n",
       "    </tr>\n",
       "  </tbody>\n",
       "</table>\n",
       "</div>"
      ],
      "text/plain": [
       "   PassengerId  Survived  Pclass  \\\n",
       "0            1         0       3   \n",
       "1            2         1       1   \n",
       "2            3         1       3   \n",
       "3            4         1       1   \n",
       "4            5         0       3   \n",
       "\n",
       "                                                Name     Sex   Age  SibSp  \\\n",
       "0                            Braund, Mr. Owen Harris    male  22.0      1   \n",
       "1  Cumings, Mrs. John Bradley (Florence Briggs Th...  female  38.0      1   \n",
       "2                             Heikkinen, Miss. Laina  female  26.0      0   \n",
       "3       Futrelle, Mrs. Jacques Heath (Lily May Peel)  female  35.0      1   \n",
       "4                           Allen, Mr. William Henry    male  35.0      0   \n",
       "\n",
       "   Parch            Ticket     Fare Cabin Embarked  \n",
       "0      0         A/5 21171   7.2500   NaN        S  \n",
       "1      0          PC 17599  71.2833   C85        C  \n",
       "2      0  STON/O2. 3101282   7.9250   NaN        S  \n",
       "3      0            113803  53.1000  C123        S  \n",
       "4      0            373450   8.0500   NaN        S  "
      ]
     },
     "execution_count": 102,
     "metadata": {},
     "output_type": "execute_result"
    }
   ],
   "source": [
    "df=pd.read_csv(r\"C:\\Users\\s.mburiri\\Downloads\\titanic.csv\")\n",
    "df.head()"
   ]
  },
  {
   "cell_type": "code",
   "execution_count": 43,
   "metadata": {},
   "outputs": [
    {
     "data": {
      "text/plain": [
       "PassengerId      int64\n",
       "Survived         int64\n",
       "Pclass           int64\n",
       "Name            object\n",
       "Sex             object\n",
       "Age            float64\n",
       "SibSp            int64\n",
       "Parch            int64\n",
       "Ticket          object\n",
       "Fare           float64\n",
       "Cabin           object\n",
       "Embarked        object\n",
       "dtype: object"
      ]
     },
     "execution_count": 43,
     "metadata": {},
     "output_type": "execute_result"
    }
   ],
   "source": [
    "df.dtypes"
   ]
  },
  {
   "cell_type": "code",
   "execution_count": 58,
   "metadata": {},
   "outputs": [
    {
     "data": {
      "text/plain": [
       "PassengerId    0\n",
       "Survived       0\n",
       "Pclass         0\n",
       "Name           0\n",
       "Sex            0\n",
       "Age            0\n",
       "SibSp          0\n",
       "Parch          0\n",
       "Ticket         0\n",
       "Fare           0\n",
       "Cabin          0\n",
       "Embarked       0\n",
       "dtype: int64"
      ]
     },
     "execution_count": 58,
     "metadata": {},
     "output_type": "execute_result"
    }
   ],
   "source": [
    "df.isnull().sum()"
   ]
  },
  {
   "cell_type": "code",
   "execution_count": 103,
   "metadata": {},
   "outputs": [],
   "source": [
    "chr_cabin=df['Cabin'].astype(str) #convert cabin to str\n",
    "new_cabin=np.array([cabin[0]for cabin in chr_cabin]) # take first letter\n",
    "df['Cabin']=pd.Categorical(new_cabin) #save the new cabin var\n",
    "# replace null age vlues with the median\n",
    "new_age_var=np.where(df['Age'].isnull,28,df['Age'])\n",
    "df['Age']=new_age_var\n",
    "\n",
    "new_fare_var=np.where(df['Fare']==0,50,df['Fare'])\n",
    "df['Fare']=new_fare_var\n",
    "\n",
    "chr_embarked=df['Embarked'].astype(str) #convert embarked to str\n",
    "new_embarked=np.array([embarked[0]for embarked in chr_embarked]) # take first letter\n",
    "df['Embarked']=pd.Categorical(new_embarked) #save the new embarked var"
   ]
  },
  {
   "cell_type": "code",
   "execution_count": 104,
   "metadata": {},
   "outputs": [],
   "source": [
    "from sklearn import linear_model\n",
    "from sklearn import preprocessing"
   ]
  },
  {
   "cell_type": "code",
   "execution_count": 105,
   "metadata": {},
   "outputs": [
    {
     "name": "stdout",
     "output_type": "stream",
     "text": [
      "[1.01693725]\n",
      "[[-2.44646935]]\n"
     ]
    }
   ],
   "source": [
    "#initialize label encorder\\\n",
    "label_encoder=preprocessing.LabelEncoder()\n",
    "# convert sex variable to nueric\n",
    "encoded_sex=label_encoder.fit_transform(df['Sex'])\n",
    "encoded_sex= encoded_sex.reshape(-1, 1)  # Reshape to 2D if it's 1D\n",
    "\n",
    "# initialize the logistic regression model\n",
    "log_model=linear_model.LogisticRegression(solver='lbfgs')\n",
    "#train the model\n",
    "log_model.fit(encoded_sex,\n",
    "              df['Survived'])\n",
    "# check trained model intercept\n",
    "print(log_model.intercept_)\n",
    "# check trained model coefficient\n",
    "print(log_model.coef_)\n"
   ]
  },
  {
   "cell_type": "code",
   "execution_count": 106,
   "metadata": {},
   "outputs": [
    {
     "data": {
      "text/html": [
       "<div>\n",
       "<style scoped>\n",
       "    .dataframe tbody tr th:only-of-type {\n",
       "        vertical-align: middle;\n",
       "    }\n",
       "\n",
       "    .dataframe tbody tr th {\n",
       "        vertical-align: top;\n",
       "    }\n",
       "\n",
       "    .dataframe thead th {\n",
       "        text-align: right;\n",
       "    }\n",
       "</style>\n",
       "<table border=\"1\" class=\"dataframe\">\n",
       "  <thead>\n",
       "    <tr style=\"text-align: right;\">\n",
       "      <th>survival_prob</th>\n",
       "      <th>0.193172</th>\n",
       "      <th>0.734376</th>\n",
       "    </tr>\n",
       "    <tr>\n",
       "      <th>Sex</th>\n",
       "      <th></th>\n",
       "      <th></th>\n",
       "    </tr>\n",
       "  </thead>\n",
       "  <tbody>\n",
       "    <tr>\n",
       "      <th>female</th>\n",
       "      <td>0</td>\n",
       "      <td>314</td>\n",
       "    </tr>\n",
       "    <tr>\n",
       "      <th>male</th>\n",
       "      <td>577</td>\n",
       "      <td>0</td>\n",
       "    </tr>\n",
       "  </tbody>\n",
       "</table>\n",
       "</div>"
      ],
      "text/plain": [
       "survival_prob  0.193172  0.734376\n",
       "Sex                              \n",
       "female                0       314\n",
       "male                577         0"
      ]
     },
     "execution_count": 106,
     "metadata": {},
     "output_type": "execute_result"
    }
   ],
   "source": [
    "#make some predictions\n",
    "preds=log_model.predict_proba(encoded_sex)\n",
    "preds=pd.DataFrame(preds)\n",
    "preds.columns=['death_prob','survival_prob']\n",
    "\n",
    "#generate table of predictions vs sex\n",
    "pd.crosstab(df['Sex'],preds['survival_prob'])"
   ]
  },
  {
   "cell_type": "markdown",
   "metadata": {},
   "source": [
    "# use model.predict_proba() to get the predicted class probabilities and use model.predict() to predict to get predicted classes\n",
    "this shows a 19% survival rate for males and 73% survival rate for females. by this model we would predict that all males died abd all females survived.\n",
    "    lets make a model that incorporates more variables from the dataset."
   ]
  },
  {
   "cell_type": "code",
   "execution_count": 107,
   "metadata": {},
   "outputs": [
    {
     "name": "stdout",
     "output_type": "stream",
     "text": [
      "[0.00343024]\n",
      "[[-0.08914025 -0.74292021 -2.55263364  0.09277365]]\n"
     ]
    }
   ],
   "source": [
    "#convert more variables to numeric\n",
    "encoded_class=label_encoder.fit_transform(df['Pclass'])\n",
    "encoded_cabin=label_encoder.fit_transform(df['Cabin'])\n",
    "\n",
    "train_features=pd.DataFrame([encoded_cabin,\n",
    "                             encoded_class,\n",
    "                             encoded_sex,\n",
    "                             df['Age']]).T\n",
    "#initialize the logistic regression model\n",
    "log_model=linear_model.LogisticRegression(solver=\"lbfgs\")\n",
    "# train the model\n",
    "log_model.fit(train_features,df['Survived'])\n",
    "#check tarined model intercept\n",
    "print(log_model.intercept_)\n",
    "#check trained model coefficient\n",
    "print(log_model.coef_)\n"
   ]
  },
  {
   "cell_type": "code",
   "execution_count": 109,
   "metadata": {},
   "outputs": [
    {
     "data": {
      "text/html": [
       "<div>\n",
       "<style scoped>\n",
       "    .dataframe tbody tr th:only-of-type {\n",
       "        vertical-align: middle;\n",
       "    }\n",
       "\n",
       "    .dataframe tbody tr th {\n",
       "        vertical-align: top;\n",
       "    }\n",
       "\n",
       "    .dataframe thead th {\n",
       "        text-align: right;\n",
       "    }\n",
       "</style>\n",
       "<table border=\"1\" class=\"dataframe\">\n",
       "  <thead>\n",
       "    <tr style=\"text-align: right;\">\n",
       "      <th>Survived</th>\n",
       "      <th>0</th>\n",
       "      <th>1</th>\n",
       "    </tr>\n",
       "    <tr>\n",
       "      <th>row_0</th>\n",
       "      <th></th>\n",
       "      <th></th>\n",
       "    </tr>\n",
       "  </thead>\n",
       "  <tbody>\n",
       "    <tr>\n",
       "      <th>0</th>\n",
       "      <td>460</td>\n",
       "      <td>103</td>\n",
       "    </tr>\n",
       "    <tr>\n",
       "      <th>1</th>\n",
       "      <td>89</td>\n",
       "      <td>239</td>\n",
       "    </tr>\n",
       "  </tbody>\n",
       "</table>\n",
       "</div>"
      ],
      "text/plain": [
       "Survived    0    1\n",
       "row_0             \n",
       "0         460  103\n",
       "1          89  239"
      ]
     },
     "execution_count": 109,
     "metadata": {},
     "output_type": "execute_result"
    }
   ],
   "source": [
    "# make predictions\n",
    "pred=log_model.predict(train_features)\n",
    "# generate table of predictions vs actual\n",
    "pd.crosstab(pred,df['Survived'])"
   ]
  },
  {
   "cell_type": "markdown",
   "metadata": {},
   "source": [
    "The table above shows the predicted classes vs the actual survival variables.the table is called a confussion matrix."
   ]
  },
  {
   "cell_type": "markdown",
   "metadata": {},
   "source": [
    "# how well did the model predict"
   ]
  },
  {
   "cell_type": "code",
   "execution_count": 110,
   "metadata": {},
   "outputs": [
    {
     "data": {
      "text/plain": [
       "0.7845117845117845"
      ]
     },
     "execution_count": 110,
     "metadata": {},
     "output_type": "execute_result"
    }
   ],
   "source": [
    "log_model.score(train_features,df['Survived'])"
   ]
  },
  {
   "cell_type": "code",
   "execution_count": 111,
   "metadata": {},
   "outputs": [
    {
     "data": {
      "text/plain": [
       "array([[460,  89],\n",
       "       [103, 239]])"
      ]
     },
     "execution_count": 111,
     "metadata": {},
     "output_type": "execute_result"
    }
   ],
   "source": [
    "from sklearn import metrics\n",
    "metrics.confusion_matrix(y_true=df['Survived'],\n",
    "                         y_pred=pred)"
   ]
  },
  {
   "cell_type": "code",
   "execution_count": 81,
   "metadata": {},
   "outputs": [
    {
     "name": "stdout",
     "output_type": "stream",
     "text": [
      "              precision    recall  f1-score   support\n",
      "\n",
      "           0       0.82      0.84      0.83       549\n",
      "           1       0.73      0.70      0.71       342\n",
      "\n",
      "    accuracy                           0.78       891\n",
      "   macro avg       0.77      0.77      0.77       891\n",
      "weighted avg       0.78      0.78      0.78       891\n",
      "\n"
     ]
    }
   ],
   "source": [
    "#view summary of common classification metrics\n",
    "print(metrics.classification_report(y_true=df['Survived'],\n",
    "                         y_pred=pred))"
   ]
  },
  {
   "cell_type": "markdown",
   "metadata": {},
   "source": [
    "\n",
    "The classification report provides a summary of precision, recall, F1-score, and support for each class in your binary classification model. Let’s interpret each part of the output for this particular case.\n",
    "\n",
    "### Understanding Each Metric\n",
    "\n",
    "1. **Class 0 and Class 1**:\n",
    "   - Class `0` (often represents the negative class, like \"did not survive\") and Class `1` (positive class, like \"survived\") are evaluated separately.\n",
    "\n",
    "2. **Precision**:\n",
    "   - Precision is the ratio of true positives to the sum of true positives and false positives.\n",
    "   - **Class 0 Precision (0.82)**: When the model predicts Class 0, it is correct 82% of the time.\n",
    "   - **Class 1 Precision (0.73)**: When the model predicts Class 1, it is correct 73% of the time.\n",
    "\n",
    "3. **Recall**:\n",
    "   - Recall is the ratio of true positives to the sum of true positives and false negatives.\n",
    "   - **Class 0 Recall (0.84)**: Out of all actual Class 0 instances, the model correctly identifies 84% of them.\n",
    "   - **Class 1 Recall (0.70)**: Out of all actual Class 1 instances, the model correctly identifies 70% of them.\n",
    "\n",
    "4. **F1-score**:\n",
    "   - F1-score is the harmonic mean of precision and recall, balancing the two metrics.\n",
    "   - **Class 0 F1-score (0.83)**: This combines the model’s precision and recall for Class 0.\n",
    "   - **Class 1 F1-score (0.71)**: This combines the model’s precision and recall for Class 1.\n",
    "   - The F1-score for Class 0 is higher than for Class 1, indicating the model performs better in predicting Class 0 than Class 1.\n",
    "\n",
    "5. **Support**:\n",
    "   - Support is the number of actual occurrences of each class in the test set.\n",
    "   - **Class 0 Support (549)**: There are 549 actual instances of Class 0.\n",
    "   - **Class 1 Support (342)**: There are 342 actual instances of Class 1.\n",
    "\n",
    "### Overall Metrics\n",
    "\n",
    "1. **Accuracy (0.78)**:\n",
    "   - This is the overall accuracy of the model, calculated as the proportion of correctly predicted instances out of the total instances.\n",
    "   - Here, the accuracy is 78%, meaning the model correctly classified 78% of all instances.\n",
    "\n",
    "2. **Macro Average**:\n",
    "   - Macro average calculates the unweighted mean of precision, recall, and F1-score for both classes, treating them equally.\n",
    "   - **Macro Avg Precision/Recall/F1-score (0.77)**: This shows the average model performance across both classes without considering class imbalance.\n",
    "\n",
    "3. **Weighted Average**:\n",
    "   - Weighted average calculates the mean of precision, recall, and F1-score, weighted by support for each class.\n",
    "   - **Weighted Avg Precision/Recall/F1-score (0.78)**: This gives a more balanced view that accounts for the class imbalance (more Class 0 instances).\n",
    "\n",
    "### Interpretation Summary\n",
    "\n",
    "- The model has an overall accuracy of 78%, with slightly better performance in predicting Class 0 (precision: 0.82, recall: 0.84) than Class 1 (precision: 0.73, recall: 0.70).\n",
    "- The precision and recall for Class 0 suggest the model is better at identifying non-survivors than survivors, as evidenced by the lower scores for Class 1.\n",
    "- The weighted average F1-score of 0.78 suggests the model maintains a reasonable balance between precision and recall overall, although it could improve on identifying Class 1 instances.\n",
    "\n",
    "This output indicates a model that is generally effective but could potentially be improved, especially in detecting the positive class."
   ]
  },
  {
   "cell_type": "markdown",
   "metadata": {},
   "source": [
    "# using the logistic regression model to  make a submission for the titanic disaster"
   ]
  },
  {
   "cell_type": "code",
   "execution_count": 112,
   "metadata": {},
   "outputs": [
    {
     "data": {
      "text/html": [
       "<div>\n",
       "<style scoped>\n",
       "    .dataframe tbody tr th:only-of-type {\n",
       "        vertical-align: middle;\n",
       "    }\n",
       "\n",
       "    .dataframe tbody tr th {\n",
       "        vertical-align: top;\n",
       "    }\n",
       "\n",
       "    .dataframe thead th {\n",
       "        text-align: right;\n",
       "    }\n",
       "</style>\n",
       "<table border=\"1\" class=\"dataframe\">\n",
       "  <thead>\n",
       "    <tr style=\"text-align: right;\">\n",
       "      <th></th>\n",
       "      <th>PassengerId</th>\n",
       "      <th>Pclass</th>\n",
       "      <th>Name</th>\n",
       "      <th>Sex</th>\n",
       "      <th>Age</th>\n",
       "      <th>SibSp</th>\n",
       "      <th>Parch</th>\n",
       "      <th>Ticket</th>\n",
       "      <th>Fare</th>\n",
       "      <th>Cabin</th>\n",
       "      <th>Embarked</th>\n",
       "    </tr>\n",
       "  </thead>\n",
       "  <tbody>\n",
       "    <tr>\n",
       "      <th>0</th>\n",
       "      <td>1</td>\n",
       "      <td>3</td>\n",
       "      <td>Braund, Mr. Owen Harris</td>\n",
       "      <td>male</td>\n",
       "      <td>28.0</td>\n",
       "      <td>1</td>\n",
       "      <td>0</td>\n",
       "      <td>A/5 21171</td>\n",
       "      <td>7.2500</td>\n",
       "      <td>n</td>\n",
       "      <td>S</td>\n",
       "    </tr>\n",
       "    <tr>\n",
       "      <th>1</th>\n",
       "      <td>2</td>\n",
       "      <td>1</td>\n",
       "      <td>Cumings, Mrs. John Bradley (Florence Briggs Th...</td>\n",
       "      <td>female</td>\n",
       "      <td>28.0</td>\n",
       "      <td>1</td>\n",
       "      <td>0</td>\n",
       "      <td>PC 17599</td>\n",
       "      <td>71.2833</td>\n",
       "      <td>C</td>\n",
       "      <td>C</td>\n",
       "    </tr>\n",
       "    <tr>\n",
       "      <th>2</th>\n",
       "      <td>3</td>\n",
       "      <td>3</td>\n",
       "      <td>Heikkinen, Miss. Laina</td>\n",
       "      <td>female</td>\n",
       "      <td>28.0</td>\n",
       "      <td>0</td>\n",
       "      <td>0</td>\n",
       "      <td>STON/O2. 3101282</td>\n",
       "      <td>7.9250</td>\n",
       "      <td>n</td>\n",
       "      <td>S</td>\n",
       "    </tr>\n",
       "    <tr>\n",
       "      <th>3</th>\n",
       "      <td>4</td>\n",
       "      <td>1</td>\n",
       "      <td>Futrelle, Mrs. Jacques Heath (Lily May Peel)</td>\n",
       "      <td>female</td>\n",
       "      <td>28.0</td>\n",
       "      <td>1</td>\n",
       "      <td>0</td>\n",
       "      <td>113803</td>\n",
       "      <td>53.1000</td>\n",
       "      <td>C</td>\n",
       "      <td>S</td>\n",
       "    </tr>\n",
       "    <tr>\n",
       "      <th>4</th>\n",
       "      <td>5</td>\n",
       "      <td>3</td>\n",
       "      <td>Allen, Mr. William Henry</td>\n",
       "      <td>male</td>\n",
       "      <td>28.0</td>\n",
       "      <td>0</td>\n",
       "      <td>0</td>\n",
       "      <td>373450</td>\n",
       "      <td>8.0500</td>\n",
       "      <td>n</td>\n",
       "      <td>S</td>\n",
       "    </tr>\n",
       "  </tbody>\n",
       "</table>\n",
       "</div>"
      ],
      "text/plain": [
       "   PassengerId  Pclass                                               Name  \\\n",
       "0            1       3                            Braund, Mr. Owen Harris   \n",
       "1            2       1  Cumings, Mrs. John Bradley (Florence Briggs Th...   \n",
       "2            3       3                             Heikkinen, Miss. Laina   \n",
       "3            4       1       Futrelle, Mrs. Jacques Heath (Lily May Peel)   \n",
       "4            5       3                           Allen, Mr. William Henry   \n",
       "\n",
       "      Sex   Age  SibSp  Parch            Ticket     Fare Cabin Embarked  \n",
       "0    male  28.0      1      0         A/5 21171   7.2500     n        S  \n",
       "1  female  28.0      1      0          PC 17599  71.2833     C        C  \n",
       "2  female  28.0      0      0  STON/O2. 3101282   7.9250     n        S  \n",
       "3  female  28.0      1      0            113803  53.1000     C        S  \n",
       "4    male  28.0      0      0            373450   8.0500     n        S  "
      ]
     },
     "execution_count": 112,
     "metadata": {},
     "output_type": "execute_result"
    }
   ],
   "source": [
    "df2=df.drop(columns='Survived')\n",
    "df2.head()"
   ]
  },
  {
   "cell_type": "code",
   "execution_count": 113,
   "metadata": {},
   "outputs": [],
   "source": [
    "chr_cabin=df2['Cabin'].astype(str) #convert cabin to str\n",
    "new_cabin=np.array([cabin[0]for cabin in chr_cabin]) # take first letter\n",
    "df2['Cabin']=pd.Categorical(new_cabin) #save the new cabin var\n",
    "# replace null age vlues with the median\n",
    "new_age_var=np.where(df2['Age'].isnull,28,df2['Age'])\n",
    "df2['Age']=new_age_var\n",
    "\n",
    "new_fare_var=np.where(df2['Fare']==0,50,df2['Fare'])\n",
    "df2['Fare']=new_fare_var\n",
    "\n",
    "chr_embarked=df2['Embarked'].astype(str) #convert embarked to str\n",
    "new_embarked=np.array([embarked[0]for embarked in chr_embarked]) # take first letter\n",
    "df2['Embarked']=pd.Categorical(new_embarked) #save the new embarked var"
   ]
  },
  {
   "cell_type": "code",
   "execution_count": 114,
   "metadata": {},
   "outputs": [],
   "source": [
    "#convert more variables into numeric\n",
    "encoded_class=label_encoder.fit_transform(df2['Pclass'])\n",
    "encoded_sex=label_encoder.fit_transform(df2['Sex'])\n",
    "encoded_cabin=label_encoder.fit_transform(df2['Cabin'])"
   ]
  },
  {
   "cell_type": "code",
   "execution_count": 115,
   "metadata": {},
   "outputs": [],
   "source": [
    "train_features=pd.DataFrame([encoded_sex,\n",
    "                             encoded_class,\n",
    "                             encoded_cabin,\n",
    "                             df2['Age']]).T"
   ]
  },
  {
   "cell_type": "code",
   "execution_count": 117,
   "metadata": {},
   "outputs": [],
   "source": [
    "# make test set predictions\n",
    "test_predictions=log_model.predict(train_features)\n",
    "# create submission for kaggle\n",
    "submission=pd.DataFrame({'PassengerId':df['PassengerId'],\n",
    "                         'Survived': test_predictions})\n",
    "#save submission to CSV\n",
    "submission.to_csv(\"tutorial_logreg_submission.csv\",index=False)\n",
    "                         "
   ]
  },
  {
   "cell_type": "code",
   "execution_count": 121,
   "metadata": {},
   "outputs": [
    {
     "name": "stdout",
     "output_type": "stream",
     "text": [
      "    PassengerId  Survived\n",
      "0             1         0\n",
      "1             2         0\n",
      "2             3         0\n",
      "3             4         0\n",
      "4             5         0\n",
      "5             6         0\n",
      "6             7         0\n",
      "7             8         0\n",
      "8             9         0\n",
      "9            10         0\n",
      "10           11         0\n",
      "11           12         0\n",
      "12           13         0\n",
      "13           14         0\n",
      "14           15         0\n",
      "15           16         0\n",
      "16           17         0\n",
      "17           18         0\n",
      "18           19         0\n",
      "19           20         0\n",
      "20           21         0\n",
      "21           22         0\n",
      "22           23         0\n",
      "23           24         1\n",
      "24           25         0\n",
      "25           26         0\n",
      "26           27         0\n",
      "27           28         0\n",
      "28           29         0\n",
      "29           30         0\n"
     ]
    }
   ],
   "source": [
    "print(submission.head(30))"
   ]
  },
  {
   "cell_type": "code",
   "execution_count": null,
   "metadata": {},
   "outputs": [],
   "source": []
  }
 ],
 "metadata": {
  "kernelspec": {
   "display_name": "Python 3",
   "language": "python",
   "name": "python3"
  },
  "language_info": {
   "codemirror_mode": {
    "name": "ipython",
    "version": 3
   },
   "file_extension": ".py",
   "mimetype": "text/x-python",
   "name": "python",
   "nbconvert_exporter": "python",
   "pygments_lexer": "ipython3",
   "version": "3.12.4"
  }
 },
 "nbformat": 4,
 "nbformat_minor": 2
}
