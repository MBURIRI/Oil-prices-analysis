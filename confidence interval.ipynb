{
 "cells": [
  {
   "cell_type": "markdown",
   "metadata": {
    "vscode": {
     "languageId": "html"
    }
   },
   "source": [
    "<h2 style=\"color: blanchedalmond;\">CONFIDENCE INTERVALS</h2>"
   ]
  },
  {
   "cell_type": "markdown",
   "metadata": {},
   "source": [
    "Confidence intervals are a statistical tool used to estimate the range within which a population parameter is likely to fall, based on sample data. They provide a measure of uncertainty around a sample statistic, such as a mean or proportion. For example, a 95% confidence interval for a mean suggests that if the same sampling process were repeated many times, approximately 95% of those intervals would contain the true population mean. The interval is constructed using the sample data and a chosen level of confidence (e.g., 95% or 99%), and it typically consists of an upper and lower bound around the sample estimate. This helps to understand the precision of the estimate and the reliability of the inference drawn from the sample.\n"
   ]
  },
  {
   "cell_type": "markdown",
   "metadata": {
    "vscode": {
     "languageId": "html"
    }
   },
   "source": [
    "<h1 style=\"color: aqua;\" >point estimate</h1>"
   ]
  },
  {
   "cell_type": "markdown",
   "metadata": {},
   "source": [
    "A point estimate is a single value derived from sample data used to estimate an unknown population parameter, such as a mean or proportion, representing the best guess based on the sample. "
   ]
  },
  {
   "cell_type": "code",
   "execution_count": 24,
   "metadata": {},
   "outputs": [],
   "source": [
    "#importing libraries\n",
    "import pandas as pd\n",
    "import numpy as np\n",
    "import matplotlib.pyplot as plt\n",
    "import seaborn as sns\n",
    "import random\n",
    "import math\n",
    "import scipy.stats as stats"
   ]
  },
  {
   "cell_type": "markdown",
   "metadata": {
    "vscode": {
     "languageId": "html"
    }
   },
   "source": [
    "<h1 style=\"color: aquamarine;\">average age of each voter</h1>"
   ]
  },
  {
   "cell_type": "code",
   "execution_count": 3,
   "metadata": {},
   "outputs": [
    {
     "data": {
      "text/plain": [
       "np.float64(25.009468)"
      ]
     },
     "execution_count": 3,
     "metadata": {},
     "output_type": "execute_result"
    }
   ],
   "source": [
    "random.seed(10)\n",
    "pop_ages1=np.random.poisson(lam=35,size=150000)\n",
    "pop_ages2=np.random.poisson(lam=10,size=100000)\n",
    "pop_ages=np.concatenate((pop_ages1,pop_ages2))\n",
    "pop_ages.mean()\n"
   ]
  },
  {
   "cell_type": "code",
   "execution_count": 4,
   "metadata": {},
   "outputs": [
    {
     "data": {
      "text/plain": [
       "np.float64(-0.014532000000002654)"
      ]
     },
     "execution_count": 4,
     "metadata": {},
     "output_type": "execute_result"
    }
   ],
   "source": [
    "random.seed(6)\n",
    "sample_ages=np.random.choice(a=pop_ages,size=500)\n",
    "sample_ages.mean()\n",
    "pop_ages.mean()-sample_ages.mean()"
   ]
  },
  {
   "cell_type": "markdown",
   "metadata": {},
   "source": [
    "<h1 style=\"color: aquamarine;\">The race of each voter</h1>"
   ]
  },
  {
   "cell_type": "code",
   "execution_count": 5,
   "metadata": {},
   "outputs": [
    {
     "name": "stdout",
     "output_type": "stream",
     "text": [
      "whitesproportional estimate:\n",
      "0.379\n",
      "hispanicproportional estimate:\n",
      "0.192\n",
      "blacksproportional estimate:\n",
      "0.231\n",
      "othersproportional estimate:\n",
      "0.099\n",
      "asiansproportional estimate:\n",
      "0.099\n"
     ]
    }
   ],
   "source": [
    "random.seed(10)\n",
    "pop_race=(['whites']*100000)+(['blacks']*50000)+(['hispanic']*50000)+(['asians']*25000)+(['others']*25000)\n",
    "demo_sample=random.sample(pop_race,1000)\n",
    "for race in set(demo_sample):\n",
    "    print(race  +  \"proportional estimate:\")\n",
    "    print(demo_sample.count(race)/1000)"
   ]
  },
  {
   "cell_type": "markdown",
   "metadata": {
    "vscode": {
     "languageId": "html"
    }
   },
   "source": [
    "<h1 style=\"color: blue;\">z critical value</h1>"
   ]
  },
  {
   "cell_type": "markdown",
   "metadata": {},
   "source": [
    "The z critical value is a point on the standard normal distribution that corresponds to a specified level of significance in hypothesis testing or a confidence level in confidence intervals. It indicates the number of standard deviations a data point is from the mean.\n",
    "\n",
    "Here are some common z critical values:\n",
    "\n",
    "For a 90% confidence level: z = ±1.645 \n",
    "\n",
    "For a 95% confidence level: z = ±1.96\n",
    "\n",
    "For a 99% confidence level: z = ±2.576\n",
    "\n",
    "The \n",
    "𝑧\n",
    "critical\n",
    "z \n",
    "critical\n",
    "​\n",
    "  value, or critical value, represents a point on the standard normal distribution (which has a mean of 0 and a standard deviation of 1) beyond which a certain proportion of the distribution lies. In hypothesis testing or confidence interval calculations, it's used to determine the boundary for rejecting the null hypothesis or for defining the range in which a parameter estimate is expected to fall."
   ]
  },
  {
   "cell_type": "markdown",
   "metadata": {
    "vscode": {
     "languageId": "html"
    }
   },
   "source": [
    "<h1 style=\"color: aqua;\" >how to calculate the margin of error</h1>"
   ]
  },
  {
   "cell_type": "code",
   "execution_count": 7,
   "metadata": {},
   "outputs": [
    {
     "name": "stdout",
     "output_type": "stream",
     "text": [
      "1.959963984540054\n",
      "(np.float64(24.313827553695806), np.float64(25.954172446304195))\n"
     ]
    }
   ],
   "source": [
    "sample_size=1000\n",
    "sample=np.random.choice(a=pop_ages, size=sample_size)\n",
    "sample_mean=sample.mean()\n",
    "z_critical= stats.norm.ppf(q=0.975)\n",
    "print(z_critical)\n",
    "pop_stdev=pop_ages.std()\n",
    "margin_of_error=z_critical*(pop_stdev/math.sqrt(sample_size))\n",
    "confidence_interval=(sample_mean-margin_of_error,sample_mean+margin_of_error)\n",
    "print(confidence_interval)\n"
   ]
  },
  {
   "cell_type": "markdown",
   "metadata": {
    "vscode": {
     "languageId": "html"
    }
   },
   "source": [
    "<h1 style=\"color: aquamarine;\"> t-distribution and t -critical value</h1>"
   ]
  },
  {
   "cell_type": "markdown",
   "metadata": {},
   "source": [
    "The t-distribution is a probability distribution that arises when estimating the mean of a normally distributed population when the sample size is small and the population standard deviation is unknown. It is symmetric and bell-shaped, similar to the standard normal distribution, but has heavier tails, which allows it to account for the increased variability that occurs with smaller sample sizes. The t-critical value is a point on the t-distribution that corresponds to a specific significance level or confidence level, and it is used in hypothesis testing and constructing confidence intervals. As the sample size increases, the t-distribution approaches the standard normal distribution, and the t-critical values converge to z critical values."
   ]
  },
  {
   "cell_type": "code",
   "execution_count": 13,
   "metadata": {},
   "outputs": [
    {
     "name": "stdout",
     "output_type": "stream",
     "text": [
      "t_critical:\n",
      "2.0638985616280205\n",
      "confidence_interval:\n",
      "(np.float64(22.0096661765773), np.float64(33.190333823422705))\n"
     ]
    }
   ],
   "source": [
    "np.random.seed(10)\n",
    "sample_size=25\n",
    "sample=np.random.choice(a=pop_ages, size=sample_size)\n",
    "sample_mean=sample.mean()\n",
    "t_critical=stats.t.ppf(q=0.975,df=24)\n",
    "print('t_critical:')\n",
    "print(t_critical)\n",
    "sample_stdev=sample.std(ddof=1)\n",
    "sigma=sample_stdev/math.sqrt(sample_size)\n",
    "margin_of_error=t_critical*(sigma)\n",
    "confidence_interval=(sample_mean-margin_of_error,sample_mean+margin_of_error)\n",
    "print('confidence_interval:')\n",
    "print(confidence_interval)"
   ]
  },
  {
   "cell_type": "markdown",
   "metadata": {},
   "source": [
    "<h1 style=\"color: aquamarine;\"> direct confidence_interval</h1>"
   ]
  },
  {
   "cell_type": "code",
   "execution_count": 23,
   "metadata": {},
   "outputs": [
    {
     "name": "stdout",
     "output_type": "stream",
     "text": [
      "confidence_interval:\n",
      "(np.float64(22.0096661765773), np.float64(33.190333823422705))\n"
     ]
    }
   ],
   "source": [
    "confidence_interval=stats.t.interval(df=24,loc=sample_mean,scale=sigma,confidence=0.95)\n",
    "print('confidence_interval:')\n",
    "print(confidence_interval)"
   ]
  },
  {
   "cell_type": "code",
   "execution_count": null,
   "metadata": {},
   "outputs": [],
   "source": []
  }
 ],
 "metadata": {
  "kernelspec": {
   "display_name": "Python 3",
   "language": "python",
   "name": "python3"
  },
  "language_info": {
   "codemirror_mode": {
    "name": "ipython",
    "version": 3
   },
   "file_extension": ".py",
   "mimetype": "text/x-python",
   "name": "python",
   "nbconvert_exporter": "python",
   "pygments_lexer": "ipython3",
   "version": "3.12.4"
  }
 },
 "nbformat": 4,
 "nbformat_minor": 2
}
