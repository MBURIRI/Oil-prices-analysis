{
 "cells": [
  {
   "cell_type": "markdown",
   "metadata": {
    "vscode": {
     "languageId": "html"
    }
   },
   "source": [
    "<h2 style=\"color: blanchedalmond;\">CONFIDENCE INTERVALS</h2>"
   ]
  },
  {
   "cell_type": "markdown",
   "metadata": {},
   "source": [
    "Confidence intervals are a statistical tool used to estimate the range within which a population parameter is likely to fall, based on sample data. They provide a measure of uncertainty around a sample statistic, such as a mean or proportion. For example, a 95% confidence interval for a mean suggests that if the same sampling process were repeated many times, approximately 95% of those intervals would contain the true population mean. The interval is constructed using the sample data and a chosen level of confidence (e.g., 95% or 99%), and it typically consists of an upper and lower bound around the sample estimate. This helps to understand the precision of the estimate and the reliability of the inference drawn from the sample.\n"
   ]
  },
  {
   "cell_type": "markdown",
   "metadata": {
    "vscode": {
     "languageId": "html"
    }
   },
   "source": [
    "<h1 style=\"color: aqua;\" >point estimate</h1>"
   ]
  },
  {
   "cell_type": "markdown",
   "metadata": {},
   "source": [
    "A point estimate is a single value derived from sample data used to estimate an unknown population parameter, such as a mean or proportion, representing the best guess based on the sample. "
   ]
  },
  {
   "cell_type": "code",
   "execution_count": 7,
   "metadata": {},
   "outputs": [],
   "source": [
    "import pandas as pd\n",
    "import numpy as np\n",
    "import matplotlib.pyplot as plt\n",
    "import seaborn as sns\n",
    "import random\n",
    "import math\n",
    "import scipy.stats as stats"
   ]
  },
  {
   "cell_type": "markdown",
   "metadata": {
    "vscode": {
     "languageId": "html"
    }
   },
   "source": [
    "<h1 style=\"color: aquamarine;\">average age of each voter</h1>"
   ]
  },
  {
   "cell_type": "code",
   "execution_count": 21,
   "metadata": {},
   "outputs": [
    {
     "data": {
      "text/plain": [
       "np.float64(25.007316)"
      ]
     },
     "execution_count": 21,
     "metadata": {},
     "output_type": "execute_result"
    }
   ],
   "source": [
    "random.seed(10)\n",
    "pop_ages1=np.random.poisson(lam=35,size=150000)\n",
    "pop_ages2=np.random.poisson(lam=10,size=100000)\n",
    "pop_ages=np.concatenate((pop_ages1,pop_ages2))\n",
    "pop_ages.mean()\n"
   ]
  },
  {
   "cell_type": "code",
   "execution_count": 20,
   "metadata": {},
   "outputs": [
    {
     "data": {
      "text/plain": [
       "np.float64(0.06037200000000098)"
      ]
     },
     "execution_count": 20,
     "metadata": {},
     "output_type": "execute_result"
    }
   ],
   "source": [
    "random.seed(6)\n",
    "sample_ages=np.random.choice(a=pop_ages,size=500)\n",
    "sample_ages.mean()\n",
    "pop_ages.mean()-sample_ages.mean()"
   ]
  },
  {
   "cell_type": "markdown",
   "metadata": {},
   "source": [
    "<h1 style=\"color: aquamarine;\">The race of each voter</h1>"
   ]
  },
  {
   "cell_type": "code",
   "execution_count": 26,
   "metadata": {},
   "outputs": [
    {
     "name": "stdout",
     "output_type": "stream",
     "text": [
      "asiansproportional estimate:\n",
      "0.099\n",
      "hispanicproportional estimate:\n",
      "0.192\n",
      "othersproportional estimate:\n",
      "0.099\n",
      "blacksproportional estimate:\n",
      "0.231\n",
      "whitesproportional estimate:\n",
      "0.379\n"
     ]
    }
   ],
   "source": [
    "random.seed(10)\n",
    "pop_race=(['whites']*100000)+(['blacks']*50000)+(['hispanic']*50000)+(['asians']*25000)+(['others']*25000)\n",
    "demo_sample=random.sample(pop_race,1000)\n",
    "for race in set(demo_sample):\n",
    "    print(race  +  \"proportional estimate:\")\n",
    "    print(demo_sample.count(race)/1000)"
   ]
  },
  {
   "cell_type": "markdown",
   "metadata": {},
   "source": [
    "The \n",
    "𝑧\n",
    "critical\n",
    "z \n",
    "critical\n",
    "​\n",
    "  value, or critical value, represents a point on the standard normal distribution (which has a mean of 0 and a standard deviation of 1) beyond which a certain proportion of the distribution lies. In hypothesis testing or confidence interval calculations, it's used to determine the boundary for rejecting the null hypothesis or for defining the range in which a parameter estimate is expected to fall."
   ]
  },
  {
   "cell_type": "code",
   "execution_count": null,
   "metadata": {},
   "outputs": [],
   "source": []
  },
  {
   "cell_type": "code",
   "execution_count": null,
   "metadata": {},
   "outputs": [],
   "source": []
  },
  {
   "cell_type": "code",
   "execution_count": null,
   "metadata": {},
   "outputs": [],
   "source": []
  },
  {
   "cell_type": "code",
   "execution_count": null,
   "metadata": {},
   "outputs": [],
   "source": []
  },
  {
   "cell_type": "code",
   "execution_count": null,
   "metadata": {},
   "outputs": [],
   "source": []
  },
  {
   "cell_type": "code",
   "execution_count": null,
   "metadata": {},
   "outputs": [],
   "source": []
  },
  {
   "cell_type": "code",
   "execution_count": null,
   "metadata": {},
   "outputs": [],
   "source": []
  }
 ],
 "metadata": {
  "kernelspec": {
   "display_name": "Python 3",
   "language": "python",
   "name": "python3"
  },
  "language_info": {
   "codemirror_mode": {
    "name": "ipython",
    "version": 3
   },
   "file_extension": ".py",
   "mimetype": "text/x-python",
   "name": "python",
   "nbconvert_exporter": "python",
   "pygments_lexer": "ipython3",
   "version": "3.12.4"
  }
 },
 "nbformat": 4,
 "nbformat_minor": 2
}
